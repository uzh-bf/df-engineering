{
 "cells": [
  {
   "metadata": {},
   "cell_type": "markdown",
   "source": [
    "| Title                                                   | Date       | Author          |\n",
    "|---------------------------------------------------------|------------|-----------------|\n",
    "| Building RAGs using Haystack - Jupyter Notebook Version | 2025-05-20 | Antonio Del Rio |\n",
    "---"
   ],
   "id": "6ef97a3d98392209"
  },
  {
   "metadata": {},
   "cell_type": "markdown",
   "source": [
    "# 1. Introduction and Terminology\n",
    "This tutorial provides a comprehensive, step-by-step guide for building a RAG pipeline using the open-source Haystack\n",
    "framework. In this walkthrough, you will learn how to install and configure Haystack, prepare your knowledge base using various data formats (such as text files, PDFs, and website content), embed documents, and construct a fully functional RAG pipeline that answers questions grounded in external data.\n",
    "\n",
    "Note - This tutorial was inspired by and builds upon the concepts and implementations presented in the following resources:\n",
    "- [Haystack Tutorial: Creating Your First QA Pipeline with Retrieval-Augmentation](https://haystack.deepset.ai/tutorials/27_first_rag_pipeline)\n",
    "- [DeepLearning.AI Short Course: Building AI Applications with Haystack](https://www.deeplearning.ai/short-courses/building-ai-applications-with-haystack/)\n",
    "\n",
    "---\n",
    "\n",
    "**Haystack** is an open-source framework for building search and question-answering systems powered by Natural\n",
    "Language Processing (NLP). It supports various components such as document retrieval, question answering, and\n",
    "generative models, making it suitable for implementing complex pipelines like Retrieval-Augmented Generation (RAG).\n",
    "The full documentation for Haystack can be found [here](https://docs.haystack.deepset.ai/docs/intro).\n",
    "\n",
    "**Retrieval-Augmented Generation (RAG)** is a pipeline technique that retrieves relevant information from a\n",
    "knowledge base to produce more accurate and contextually relevant answers to a provided query. Instead of relying on\n",
    "the generative model's training data to generate a response, the RAG pipeline retrieves relevant documents from a\n",
    "defined set of documents (the knowledge base) and passes them onto the generative model to generate a response. This\n",
    "approach allows the\n",
    "model to access external up-to-date information to more accurately respond to queries.\n",
    "\n",
    "Example of queries to generative models with and without RAG pipeline:\n",
    "- *Without* RAG pipeline: Answer the question (based on what you have been trained on)\n",
    "- *With* RAG pipeline: Answer the question AND base your answer on the provided document(s)\n",
    "\n",
    "Key terminology:\n",
    "\n",
    "| Term                 | What It Means                                                                                               |\n",
    "|----------------------|-------------------------------------------------------------------------------------------------------------|\n",
    "| **Document**         | A unit of text (e.g. paragraph, webpage, etc.)                                                              |\n",
    "| **Chunking**         | Splitting longer documents into smaller, more manageable parts (chunks) before passing through the embedder |\n",
    "| **Embedder**         | Turns text into numerical vectors (embeddings)                                                              |\n",
    "| **Document Store**   | A storage component that holds chunked embedded documents                                                   |\n",
    "| **Retriever**        | Finds relevant documents based on a query (using vector similarity)                                         |\n",
    "| **Reader/Generator** | Extracts/Generates answers from retrieved documents                                                         |\n"
   ],
   "id": "5cfba3b258194504"
  },
  {
   "metadata": {},
   "cell_type": "markdown",
   "source": [
    "# 2. Haystack Installation and Environment Setup\n",
    "\n",
    "## Haystack Installation\n",
    "\n",
    "Haystack and its required packages can be installed from *haystack-ai* using pip, uv, or any other preferred package\n",
    "manager:\n",
    "\n",
    "```console\n",
    "pip install haystack-ai\n",
    "```\n",
    "\n",
    "To use Haystack components for Google's Gemini model, *google-ai-haystack* and its required packages need to\n",
    " be installed in addition:\n",
    "```console\n",
    "pip install google-ai-haystack\n",
    "```\n",
    "\n",
    "## API Key Setup\n",
    "When building a RAG pipeline, certain components may use AI models that require access to an API key.\n",
    "In this documentation, the following components require an API key:\n",
    "\n",
    "- OpenAIDocumentEmbedder → requires OPENAI_API_KEY\n",
    "- OpenAITextEmbedder → requires OPENAI_API_KEY\n",
    "- OpenAIChatGenerator → requires OPENAI_API_KEY\n",
    "- GoogleAIGeminiChatGenerator → requires GOOGLE_API_KEY\n",
    "\n",
    "To store API keys for use in the RAG pipeline, a .env file can be created in the project space and the API\n",
    "keys can be listed in the file:\n",
    "```text\n",
    "OPENAI_API_KEY = ...OpenAI API key goes here...\n",
    "GOOGLE_API_KEY = ...Google Gemini API key goes here...\n",
    "```\n",
    "\n",
    "To access the .env file containing the API keys, the library *dotenv* is needed:\n",
    "```console\n",
    "pip install dotenv\n",
    "```\n",
    "When working in a jupyter notebook Python environment (such as this one), the following code can be used to load the .env file:"
   ],
   "id": "869f0c411c334395"
  },
  {
   "metadata": {
    "ExecuteTime": {
     "end_time": "2025-05-20T12:52:31.274194Z",
     "start_time": "2025-05-20T12:52:31.250524Z"
    }
   },
   "cell_type": "code",
   "source": [
    "%load_ext dotenv\n",
    "%dotenv"
   ],
   "id": "41df34026822c9e",
   "outputs": [],
   "execution_count": 1
  },
  {
   "metadata": {},
   "cell_type": "markdown",
   "source": "If the API keys have previously been loaded, they can be reloaded by calling the following method:",
   "id": "407e15bd71f9ac25"
  },
  {
   "metadata": {
    "ExecuteTime": {
     "end_time": "2025-05-20T12:52:32.314502Z",
     "start_time": "2025-05-20T12:52:32.310718Z"
    }
   },
   "cell_type": "code",
   "source": "%reload_ext dotenv",
   "id": "188f67d23be2dcf0",
   "outputs": [],
   "execution_count": 2
  },
  {
   "metadata": {},
   "cell_type": "markdown",
   "source": [
    "# 3. Haystack Components for Building a RAG Pipeline\n",
    "\n",
    "## Document Store\n",
    "To store the documents from the knowledge base, we can initialize a Haystack document store object. This object is\n",
    "essentially a database for the knowledge base which the RAG's retriever can then access when a query is provided.\n",
    "The simplest document store that can be used is *InMemoryDocumentStore()*:"
   ],
   "id": "4a2c10591e233cc0"
  },
  {
   "metadata": {
    "ExecuteTime": {
     "end_time": "2025-05-20T12:52:37.936637Z",
     "start_time": "2025-05-20T12:52:33.827344Z"
    }
   },
   "cell_type": "code",
   "source": [
    "from haystack.document_stores.in_memory import InMemoryDocumentStore\n",
    "\n",
    "document_store = InMemoryDocumentStore()"
   ],
   "id": "1eeab40c4cecbe3b",
   "outputs": [],
   "execution_count": 3
  },
  {
   "metadata": {},
   "cell_type": "markdown",
   "source": [
    " The document embedding step can be streamlined by creating a Haystack Pipeline object, adding and connecting the components to it, and feeding the\n",
    "documents through the object.\n",
    "\n",
    "Firstly, the necessary components need to be imported. In the below example, since the data source (knowledge base)\n",
    "is in the form of a .txt file, the component *TextFileToDocument* can be used to automatically convert the text file\n",
    "into a valid Haystack Document object. Haystack offers a wide variety of converter components to convert .csv, .html,\n",
    ".doc and more data sources into valid Haystack Document objects, all of which can be found\n",
    "[here](https://docs.haystack.deepset.ai/docs/converters).\n",
    "\n",
    "The data source *edison.txt* used in this example is the book [*Edison: His Life and Inventions* by Frank Lewis Dyer and Thomas Commerford Martin](https://www.gutenberg.org/ebooks/820). This is a narrative of the famous inventor and businessman Thomas Edison that has been uploaded to the Project Gutenberg Library."
   ],
   "id": "db64e69a85c371b6"
  },
  {
   "metadata": {
    "ExecuteTime": {
     "end_time": "2025-05-20T12:52:42.071331Z",
     "start_time": "2025-05-20T12:52:40.250899Z"
    }
   },
   "cell_type": "code",
   "source": [
    "from haystack.components.converters.txt import TextFileToDocument\n",
    "from haystack.components.preprocessors.document_splitter import DocumentSplitter\n",
    "from haystack.components.embedders import OpenAIDocumentEmbedder\n",
    "from haystack.components.writers import DocumentWriter\n",
    "\n",
    "# Pipeline handles documents in text form and automatically writes (stores embeddings of) them into document_store\n",
    "data_source = \"haystack_tutorial_data/edison.txt\"\n",
    "\n",
    "converter = TextFileToDocument()\n",
    "splitter = DocumentSplitter()\n",
    "embedder = OpenAIDocumentEmbedder()\n",
    "writer = DocumentWriter(document_store=document_store)"
   ],
   "id": "9500891745fc7027",
   "outputs": [],
   "execution_count": 4
  },
  {
   "metadata": {},
   "cell_type": "markdown",
   "source": [
    "Next a Haystack Pipeline can be initialized, and the required components can be added to this object using the *.\n",
    "add_component()\" method:"
   ],
   "id": "52bbdb92bf2d90cb"
  },
  {
   "metadata": {
    "ExecuteTime": {
     "end_time": "2025-05-20T12:52:43.751306Z",
     "start_time": "2025-05-20T12:52:43.748673Z"
    }
   },
   "cell_type": "code",
   "source": [
    "from haystack import Pipeline\n",
    "indexing_pipeline = Pipeline()\n",
    "\n",
    "indexing_pipeline.add_component(name=\"converter\", instance=converter)\n",
    "indexing_pipeline.add_component(name=\"splitter\", instance=splitter)\n",
    "indexing_pipeline.add_component(name=\"embedder\", instance=embedder)\n",
    "indexing_pipeline.add_component(name=\"writer\", instance=writer)"
   ],
   "id": "fb2ac00839f80762",
   "outputs": [],
   "execution_count": 5
  },
  {
   "metadata": {},
   "cell_type": "markdown",
   "source": [
    "The added components must then be connected correctly to build the pipeline. The steps for properly processing the\n",
    "documents for the knowledge base are:\n",
    "\n",
    "1. Convert data source into a proper Haystack document object using the converter component\n",
    "2. Chunk the documents into smaller documents using the splitter component\n",
    "3. Embed the chunked documents using the embedder component\n",
    "4. Write the embeddings to the document store using the writer component\n",
    "\n",
    "The components can be connected together using the *.connect()* method:"
   ],
   "id": "ab2d814078e2c412"
  },
  {
   "metadata": {
    "ExecuteTime": {
     "end_time": "2025-05-20T12:52:45.744932Z",
     "start_time": "2025-05-20T12:52:45.738866Z"
    }
   },
   "cell_type": "code",
   "source": [
    "indexing_pipeline.connect(sender=\"converter\", receiver=\"splitter\")\n",
    "indexing_pipeline.connect(sender=\"splitter\", receiver=\"embedder\")\n",
    "indexing_pipeline.connect(sender=\"embedder\", receiver=\"writer\")"
   ],
   "id": "3e0f93e1c85677cb",
   "outputs": [
    {
     "data": {
      "text/plain": [
       "<haystack.core.pipeline.pipeline.Pipeline object at 0x11294c140>\n",
       "🚅 Components\n",
       "  - converter: TextFileToDocument\n",
       "  - splitter: DocumentSplitter\n",
       "  - embedder: OpenAIDocumentEmbedder\n",
       "  - writer: DocumentWriter\n",
       "🛤️ Connections\n",
       "  - converter.documents -> splitter.documents (List[Document])\n",
       "  - splitter.documents -> embedder.documents (List[Document])\n",
       "  - embedder.documents -> writer.documents (List[Document])"
      ]
     },
     "execution_count": 6,
     "metadata": {},
     "output_type": "execute_result"
    }
   ],
   "execution_count": 6
  },
  {
   "metadata": {},
   "cell_type": "markdown",
   "source": [
    "Now that the pipeline for embedding the documents has been properly created, the pipeline can be run be calling the\n",
    "*.run()* method and defining the data source to be passed into the converter component (the first component of the\n",
    "pipeline):"
   ],
   "id": "85ab68cdbf04dba7"
  },
  {
   "metadata": {
    "ExecuteTime": {
     "end_time": "2025-05-20T12:53:33.006826Z",
     "start_time": "2025-05-20T12:52:47.522825Z"
    }
   },
   "cell_type": "code",
   "source": "indexing_pipeline.run({\"converter\": {\"sources\": [data_source]}})",
   "id": "488051334a775877",
   "outputs": [
    {
     "name": "stderr",
     "output_type": "stream",
     "text": [
      "Calculating embeddings: 41it [00:44,  1.09s/it]\n"
     ]
    },
    {
     "data": {
      "text/plain": [
       "{'embedder': {'meta': {'model': 'text-embedding-ada-002-v2',\n",
       "   'usage': {'prompt_tokens': 365827, 'total_tokens': 365827}}},\n",
       " 'writer': {'documents_written': 1307}}"
      ]
     },
     "execution_count": 7,
     "metadata": {},
     "output_type": "execute_result"
    }
   ],
   "execution_count": 7
  },
  {
   "metadata": {},
   "cell_type": "markdown",
   "source": [
    "To visualize the created Haystack Pipeline and how the pipeline's components are connected to each other, the *.show()*\n",
    "method can be used:"
   ],
   "id": "8ea0e673dd07ef57"
  },
  {
   "metadata": {
    "ExecuteTime": {
     "end_time": "2025-05-20T12:53:35.716818Z",
     "start_time": "2025-05-20T12:53:35.521356Z"
    }
   },
   "cell_type": "code",
   "source": "indexing_pipeline.show()",
   "id": "f37f247c25559036",
   "outputs": [
    {
     "data": {
      "image/png": "[encoded data removed]",
      "text/plain": [
       "<IPython.core.display.Image object>"
      ]
     },
     "metadata": {},
     "output_type": "display_data"
    }
   ],
   "execution_count": 8
  },
  {
   "metadata": {},
   "cell_type": "markdown",
   "source": [
    "## Prompt Layout\n",
    "\n",
    "In a RAG pipeline, the idea is for the AI model to answer the question and base its answer on the provided\n",
    "document(s). The prompt that goes to the AI model should therefore be:\n",
    "\n",
    "- Given the following information, answer the question.\n",
    "- Context: Loop through all documents in knowledge base\n",
    "- Question: User's query / question\n",
    "- Answer: To be given by AI model\n",
    "\n",
    "Using the Haystack dataclass *ChatMessage* and Jinja2 looping syntax, the following RAG prompt template can be\n",
    "defined, which loops through the documents in the knowledge base and takes in the user's\n",
    "query:"
   ],
   "id": "540da17af5e76a6c"
  },
  {
   "metadata": {
    "ExecuteTime": {
     "end_time": "2025-05-20T12:53:39.048509Z",
     "start_time": "2025-05-20T12:53:39.042109Z"
    }
   },
   "cell_type": "code",
   "source": [
    "from haystack.dataclasses import ChatMessage\n",
    "\n",
    "prompt = [ChatMessage.from_user(\"\"\"\n",
    "Given the following information, answer the question.\n",
    "\n",
    "Context:\n",
    "{% for document in documents %}\n",
    "    {{ document.content }}\n",
    "{% endfor %}\n",
    "\n",
    "Question: {{question}}\n",
    "Answer:\n",
    "\"\"\")\n",
    "          ]"
   ],
   "id": "2dc549400ad888f4",
   "outputs": [],
   "execution_count": 9
  },
  {
   "metadata": {},
   "cell_type": "markdown",
   "source": [
    "## Query Embedding, Prompt Building, and Putting RAG Together\n",
    "\n",
    "With the prompt template defined above, a new Haystack Pipeline can be built to take the user's query and embedded\n",
    "chunked documents, pass them through an AI model, and return an answer to the user's query.\n",
    "\n",
    "Firstly, the following necessary components need to be imported and added to the RAG Haystack Pipeline object:\n",
    "- *query_embedder* → Embeds text (which will be the user's query)\n",
    "- *retriever* → Retrieves chunked document embeddings stored in the defined document store\n",
    "- *prompt_builder* → Builds the prompt based on the prompt template to be given to the AI model\n",
    "- *chat_generator* → Takes in the user's full prompt, passes it through the Gemini AI model, and\n",
    "  returns an answer to the user's query\n",
    "  - *GoogleAIGeminiChatGenerator* → Uses Google's Gemini chat model for generating an answer to the prompt\n",
    "  - *OpenAIChatGenerator* → Uses OpenAI's chat model for generating an answer to the prompt\n"
   ],
   "id": "32cd006ac7e2e596"
  },
  {
   "metadata": {
    "ExecuteTime": {
     "end_time": "2025-05-20T12:53:45.047167Z",
     "start_time": "2025-05-20T12:53:41.046033Z"
    }
   },
   "cell_type": "code",
   "source": [
    "from haystack.components.embedders import OpenAITextEmbedder\n",
    "from haystack.components.retrievers.in_memory import InMemoryEmbeddingRetriever\n",
    "from haystack.components.builders import ChatPromptBuilder\n",
    "from haystack_integrations.components.generators.google_ai import GoogleAIGeminiChatGenerator\n",
    "# from haystack.components.generators.chat import OpenAIChatGenerator --> OpenAI Chat Generator\n",
    "\n",
    "query_embedder = OpenAITextEmbedder()\n",
    "retriever = InMemoryEmbeddingRetriever(document_store=document_store)\n",
    "prompt_builder = ChatPromptBuilder(template=prompt)\n",
    "chat_generator = GoogleAIGeminiChatGenerator()\n",
    "# chat_generator = OpenAIChatGenerator(model=\"gpt-4o-mini\") --> use for OpenAI Chat Generator\n",
    "\n",
    "rag = Pipeline()\n",
    "rag.add_component(\"query_embedder\", query_embedder)\n",
    "rag.add_component(\"retriever\", retriever)\n",
    "rag.add_component(\"prompt_builder\", prompt_builder)\n",
    "rag.add_component(\"llm\", chat_generator)"
   ],
   "id": "8bb8dcd2a65f595f",
   "outputs": [
    {
     "name": "stderr",
     "output_type": "stream",
     "text": [
      "/Volumes/Antonio 1TB/DF/Github_Repo/df-engineering/content/articles/haystack-tutorial/.venv/lib/python3.12/site-packages/tqdm/auto.py:21: TqdmWarning: IProgress not found. Please update jupyter and ipywidgets. See https://ipywidgets.readthedocs.io/en/stable/user_install.html\n",
      "  from .autonotebook import tqdm as notebook_tqdm\n",
      "ChatPromptBuilder has 2 prompt variables, but `required_variables` is not set. By default, all prompt variables are treated as optional, which may lead to unintended behavior in multi-branch pipelines. To avoid unexpected execution, ensure that variables intended to be required are explicitly set in `required_variables`.\n"
     ]
    }
   ],
   "execution_count": 10
  },
  {
   "metadata": {},
   "cell_type": "markdown",
   "source": [
    "To complete the RAG pipeline, the above-added components need to be connected correctly. The\n",
    "steps for properly\n",
    "processing the user's query in a RAG pipeline are:\n",
    "\n",
    "1. Embed the user's query using the query embedder component\n",
    "2. Retrieve the chunked document embeddings stored in the defined document store using the retriever component\n",
    "3. Build a prompt using the defined prompt template and the prompt builder component\n",
    "4. Pass the full prompt to the AI model to generate an answer to the user's query using the chat generator component\n"
   ],
   "id": "f009a71800a510b3"
  },
  {
   "metadata": {
    "ExecuteTime": {
     "end_time": "2025-05-20T12:53:47.536287Z",
     "start_time": "2025-05-20T12:53:47.532362Z"
    }
   },
   "cell_type": "code",
   "source": [
    "rag.connect(\"query_embedder.embedding\", \"retriever.query_embedding\")\n",
    "rag.connect(\"retriever.documents\", \"prompt_builder.documents\")\n",
    "rag.connect(\"prompt_builder.prompt\", \"llm.messages\")"
   ],
   "id": "5ee9b6b4011d7d2b",
   "outputs": [
    {
     "data": {
      "text/plain": [
       "<haystack.core.pipeline.pipeline.Pipeline object at 0x122be2600>\n",
       "🚅 Components\n",
       "  - query_embedder: OpenAITextEmbedder\n",
       "  - retriever: InMemoryEmbeddingRetriever\n",
       "  - prompt_builder: ChatPromptBuilder\n",
       "  - llm: GoogleAIGeminiChatGenerator\n",
       "🛤️ Connections\n",
       "  - query_embedder.embedding -> retriever.query_embedding (List[float])\n",
       "  - retriever.documents -> prompt_builder.documents (List[Document])\n",
       "  - prompt_builder.prompt -> llm.messages (List[ChatMessage])"
      ]
     },
     "execution_count": 11,
     "metadata": {},
     "output_type": "execute_result"
    }
   ],
   "execution_count": 11
  },
  {
   "metadata": {},
   "cell_type": "markdown",
   "source": [
    "With the RAG pipeline fully built, it can be run by calling the *.run()* method. To run the RAG pipeline, the user must:\n",
    "1. Define their query; and\n",
    "2. Specify the integer value for the *top_k* parameter, which controls the number of top document chunks are\n",
    "   retrieved based on the similarity to the user's query\n",
    "\n",
    "After running the RAG pipeline, the response returned by the RAG pipeline can then be called and displayed:\n"
   ],
   "id": "641c43ac97f2d370"
  },
  {
   "metadata": {
    "ExecuteTime": {
     "end_time": "2025-05-20T12:54:12.187167Z",
     "start_time": "2025-05-20T12:54:10.064232Z"
    }
   },
   "cell_type": "code",
   "source": [
    "question = \"When did Edison become famous?\"\n",
    "\n",
    "response = rag.run(\n",
    "    {\n",
    "        \"query_embedder\": {\"text\": question},\n",
    "        \"retriever\": {\"top_k\": 10},\n",
    "        \"prompt_builder\": {\"question\": question},\n",
    "    }\n",
    ")\n",
    "\n",
    "rag_response = response[\"llm\"][\"replies\"][0].text\n",
    "print(rag_response)"
   ],
   "id": "78906bdeefc6b990",
   "outputs": [
    {
     "name": "stdout",
     "output_type": "stream",
     "text": [
      "The provided text states that the phonograph's launch in 1878 made Edison a world sensation, leading to widespread media coverage and the creation of an \"Edison myth.\"  However, his inventive career began much earlier, with his first patent in 1869.  His inventive activity peaked around 1882, with a significant number of patents applied for and granted that year.  Therefore, there's no single date for when he became famous, but rather a period of increasing recognition starting in 1878 and accelerating through the 1880s.\n",
      "\n"
     ]
    }
   ],
   "execution_count": 13
  },
  {
   "metadata": {},
   "cell_type": "markdown",
   "source": "# 4. Building Custom Haystack Components\n",
   "id": "6f4b9a8cae27588f"
  },
  {
   "metadata": {},
   "cell_type": "markdown",
   "source": [
    "The above RAG pipeline example has been built entirely with existing Haystack components. Haystack also has support for building custom components. Each Haystack component must fulfill the following requirements:\n",
    "1. It must be a class with the ```@component``` decorator\n",
    "2. It must include a ```run()``` method with a ```@component.output_types```decorator\n",
    "3. It must return a dictionary\n",
    "\n",
    "An example of a simple component is the following:"
   ],
   "id": "93183765fba0a14"
  },
  {
   "metadata": {
    "ExecuteTime": {
     "end_time": "2025-05-20T12:54:14.812574Z",
     "start_time": "2025-05-20T12:54:14.809845Z"
    }
   },
   "cell_type": "code",
   "source": [
    "from haystack import component\n",
    "\n",
    "@component # class with @component decorator\n",
    "class favorite_animal:\n",
    "\n",
    "    @component.output_types(output=str) # run() method with @component.output_types decorator\n",
    "    def run(self, animal_name: str):\n",
    "        return {\"output\": f\"My favorite animal is the {animal_name}!\"} # dictionary returned"
   ],
   "id": "3f4a090050ed14a4",
   "outputs": [],
   "execution_count": 14
  },
  {
   "metadata": {},
   "cell_type": "markdown",
   "source": "With the custom component ```favorite_animal``` built, it can be called and run:",
   "id": "dfa4ef5bffb54d4e"
  },
  {
   "metadata": {
    "ExecuteTime": {
     "end_time": "2025-05-20T12:54:17.226071Z",
     "start_time": "2025-05-20T12:54:17.222224Z"
    }
   },
   "cell_type": "code",
   "source": [
    "my_favorite_animal = favorite_animal()\n",
    "my_favorite_animal.run(animal_name=\"dog\")"
   ],
   "id": "c174c51fd2a2ba22",
   "outputs": [
    {
     "data": {
      "text/plain": [
       "{'output': 'My favorite animal is the dog!'}"
      ]
     },
     "execution_count": 15,
     "metadata": {},
     "output_type": "execute_result"
    }
   ],
   "execution_count": 15
  },
  {
   "metadata": {},
   "cell_type": "markdown",
   "source": [
    "As with the preset Haystack components, custom Haystack components can be added to Haystack pipelines. In the below example, the pipeline will:\n",
    "\n",
    "1. Construct the sentence \"My favorite animal is the ```{{ favorite_animal }}```!\" given the inputted ```favorite_animal``` (custom component ```favorite_animal()```)\n",
    "2. Prompts the Google Gemini AI agent to write a short paragraph about the given favorite animal (preset component ```ChatPromptBuilder()```)\n",
    "3. Generate the short paragraph about the given favorite animal given the existing knowledge of the AI agent (preset component ```GoogleAIGeminiChatGenerator()```)"
   ],
   "id": "12e23f586862ca01"
  },
  {
   "metadata": {},
   "cell_type": "markdown",
   "source": "First initialize the prompt to pass to the AI agent:",
   "id": "95c2b0501a8a6619"
  },
  {
   "metadata": {
    "ExecuteTime": {
     "end_time": "2025-05-20T12:54:19.261Z",
     "start_time": "2025-05-20T12:54:19.257756Z"
    }
   },
   "cell_type": "code",
   "source": [
    "from haystack.dataclasses import ChatMessage\n",
    "\n",
    "prompt = [ChatMessage.from_user(\"\"\"\n",
    "You are given the name of the favorite animal of the user. Write a short paragraph about the animal.\n",
    "Start of paragraph: {{ favorite_animal }}\n",
    "Paragraph:\n",
    "\"\"\")]"
   ],
   "id": "5ab8ae8f775a2cbd",
   "outputs": [],
   "execution_count": 16
  },
  {
   "metadata": {},
   "cell_type": "markdown",
   "source": "Next, initialize the two preset components:",
   "id": "e831204ee4b6f7b6"
  },
  {
   "metadata": {
    "ExecuteTime": {
     "end_time": "2025-05-20T12:54:21.232028Z",
     "start_time": "2025-05-20T12:54:21.226880Z"
    }
   },
   "cell_type": "code",
   "source": [
    "# custom component\n",
    "my_favorite_animal = favorite_animal()\n",
    "\n",
    "# preset components\n",
    "from haystack.components.builders import ChatPromptBuilder\n",
    "from haystack_integrations.components.generators.google_ai import GoogleAIGeminiChatGenerator\n",
    "\n",
    "prompt_builder = ChatPromptBuilder(template=prompt)\n",
    "chat_generator = GoogleAIGeminiChatGenerator()"
   ],
   "id": "1a024a803a689cd7",
   "outputs": [
    {
     "name": "stderr",
     "output_type": "stream",
     "text": [
      "ChatPromptBuilder has 1 prompt variables, but `required_variables` is not set. By default, all prompt variables are treated as optional, which may lead to unintended behavior in multi-branch pipelines. To avoid unexpected execution, ensure that variables intended to be required are explicitly set in `required_variables`.\n"
     ]
    }
   ],
   "execution_count": 17
  },
  {
   "metadata": {},
   "cell_type": "markdown",
   "source": "Next, initialize the Haystack pipeline, add the three components, and connect them correctly:",
   "id": "92b979451e2f53c4"
  },
  {
   "metadata": {
    "ExecuteTime": {
     "end_time": "2025-05-20T12:54:22.861065Z",
     "start_time": "2025-05-20T12:54:22.857218Z"
    }
   },
   "cell_type": "code",
   "source": [
    "from haystack import Pipeline\n",
    "\n",
    "favorite_animal_pipeline = Pipeline()\n",
    "favorite_animal_pipeline.add_component(\"my_favorite_animal\", my_favorite_animal)\n",
    "favorite_animal_pipeline.add_component(\"prompt_builder\", prompt_builder)\n",
    "favorite_animal_pipeline.add_component(\"llm\", chat_generator)\n",
    "\n",
    "favorite_animal_pipeline.connect(\"my_favorite_animal.output\", \"prompt_builder.favorite_animal\")\n",
    "favorite_animal_pipeline.connect(\"prompt_builder.prompt\", \"llm.messages\")"
   ],
   "id": "d6557bc9a961d982",
   "outputs": [
    {
     "data": {
      "text/plain": [
       "<haystack.core.pipeline.pipeline.Pipeline object at 0x1244c6300>\n",
       "🚅 Components\n",
       "  - my_favorite_animal: favorite_animal\n",
       "  - prompt_builder: ChatPromptBuilder\n",
       "  - llm: GoogleAIGeminiChatGenerator\n",
       "🛤️ Connections\n",
       "  - my_favorite_animal.output -> prompt_builder.favorite_animal (str)\n",
       "  - prompt_builder.prompt -> llm.messages (List[ChatMessage])"
      ]
     },
     "execution_count": 18,
     "metadata": {},
     "output_type": "execute_result"
    }
   ],
   "execution_count": 18
  },
  {
   "metadata": {},
   "cell_type": "markdown",
   "source": "Finally, generate the desired answer for your favorite animal (in this example, the author's favorite animal is the dog):",
   "id": "91f14f598f9b944d"
  },
  {
   "metadata": {
    "ExecuteTime": {
     "end_time": "2025-05-20T12:54:27.029880Z",
     "start_time": "2025-05-20T12:54:25.753044Z"
    }
   },
   "cell_type": "code",
   "source": [
    "# run the pipeline to generate a complete answer\n",
    "answer = favorite_animal_pipeline.run({\"my_favorite_animal\": {\"animal_name\": \"dog\"}})\n",
    "\n",
    "# display the text of the AI agent's reply\n",
    "print(answer[\"llm\"][\"replies\"][0].text)"
   ],
   "id": "5964cd27385f38b9",
   "outputs": [
    {
     "name": "stdout",
     "output_type": "stream",
     "text": [
      "My favorite animal is the dog!  Dogs are incredibly diverse creatures, ranging from tiny Chihuahuas to giant Great Danes, each with their own unique personality and appearance.  Their unwavering loyalty and playful nature have made them beloved companions for thousands of years.  Beyond their companionship, dogs possess a remarkable intelligence and capacity for training, making them valuable working animals in various fields, from assisting law enforcement to providing comfort to those in need.  Their ability to understand and respond to human emotions adds to their special bond with us, cementing their place as one of the most cherished animals in the world.\n",
      "\n"
     ]
    }
   ],
   "execution_count": 19
  },
  {
   "metadata": {},
   "cell_type": "markdown",
   "source": "# 5. Converting PDFs into Documents\n",
   "id": "bbee1c951421e26d"
  },
  {
   "metadata": {},
   "cell_type": "markdown",
   "source": [
    "The above examples have considered information for the RAG's knowledge base as pure text stored in a .txt file. Haystack has various converter components that can convert data in various forms into the embedding form for the RAG to be able to use. This section covers the simplest method to convert documents in PDF form into Haystack documents.\n",
    "\n",
    "To convert a PDF into content that can be stored in the knowledge base of the RAG, the Haystack component *PyPDFToDocument* is used. The *pypdf* package needs to be installed to use the Haystack component, which needs to be installed:\n",
    "\n",
    "```console\n",
    "pip install pypdf\n",
    "```\n",
    "To demonstrate the functionality of the converter, the below code can be run. The file path to a document (in this example, \"How to write a research proposal (Research proposal guide\" from the UZH Department of Finance is used). The converter is first initialized and the document's file path is passed into the run method of the converter. The *sources* parameter of the run method can take in a list of file paths to convert multiple PDFs into a list of document text.\n"
   ],
   "id": "eeacf9294408911f"
  },
  {
   "metadata": {
    "ExecuteTime": {
     "end_time": "2025-05-20T12:54:31.500373Z",
     "start_time": "2025-05-20T12:54:30.749573Z"
    }
   },
   "cell_type": "code",
   "source": [
    "from haystack.components.converters import PyPDFToDocument\n",
    "\n",
    "file_path = 'haystack_tutorial_data/document_uzh.pdf'\n",
    "converter = PyPDFToDocument()\n",
    "docs = converter.run(sources=[file_path])"
   ],
   "id": "4801f61d47ae1248",
   "outputs": [],
   "execution_count": 20
  },
  {
   "metadata": {},
   "cell_type": "markdown",
   "source": "The contents of the above *docs* object can be inspected by printing out the contents of each document:",
   "id": "dee41b5e1a31d819"
  },
  {
   "metadata": {
    "ExecuteTime": {
     "end_time": "2025-05-20T12:54:33.231552Z",
     "start_time": "2025-05-20T12:54:33.228917Z"
    }
   },
   "cell_type": "code",
   "source": [
    "for i, doc in enumerate(docs['documents']):\n",
    "    print(f\"\\n--- Document {i+1} ---\\n\")\n",
    "    print(doc.content)"
   ],
   "id": "2c9581675cfa10c9",
   "outputs": [
    {
     "name": "stdout",
     "output_type": "stream",
     "text": [
      "\n",
      "--- Document 1 ---\n",
      "\n",
      " \n",
      "Department of Finance \n",
      " \n",
      " \n",
      "How to write a research proposal (Research proposal guide) \n",
      " \n",
      "The research proposal of a thesis is a fundamental summary of the research project. The challenge of the topic \n",
      "proposal is to choose a satisfactory topic. Do not be disheartened, if you do not find a suitable topic right away. \n",
      " \n",
      "Component of the research proposal \n",
      " \n",
      "Title: The title should impart the core of the research project explicit and concise. \n",
      " \n",
      "Hypothesis or research enqu iry (objective): Describe, which paradox you are trying to solve and \n",
      "what the motivation behind it is. Show why this topic is worth working on. Your proposed problem \n",
      "should be precisely focused, but not trivial. Articulate specific hypotheses that you would like to test \n",
      "in your thesis. \n",
      " \n",
      "Data: Specify what data you will use and where you will source it from. The data set you will use must \n",
      "be clearly described and you must explain its suitability. Before submitting the proposal, check \n",
      "whether the data you are looking for is accessible to you and whether the data quality is sufficient. \n",
      "Method: The method of the thesis (theoretical or empirical) must be clearly presented. The method \n",
      "for the data analysis must be explained and justified, in particular how your hypothesis will be tested \n",
      "with the chosen data set. \n",
      " \n",
      "Context of the research (literature): The literature should provide a solid theoretical and empirical \n",
      "base (quote various article from leading academic journals, like Journal of Finance, Journal of Finan-\n",
      "cial Economics and Review of Financial Studies, etc.), which additionally emphasizes the relevance of \n",
      "your research. Also use Social Science Research Network to find literature. \n",
      "The hypothesis or the research enquiry must conform to the existing literature or arise from it. The \n",
      "overview of the existing literature will help you to formulate your topic and to construct your hypoth-\n",
      "esis. \n",
      " \n",
      "Remarks \n",
      "− In case that the proposed topic is not formulated as a hypothesis or a distinct statement, you \n",
      "must further specify the problem. It must be precisely expressed and specified. \n",
      "− You must justify your topic, by explaining, why it is worth to invest time and effort. \n",
      "− Make sure, that you provide a good overview about the previous research in the specific area. \n",
      "− How would you like to achieve the target of your research? Briefly explain your approach with \n",
      "references to alternative methods. The described processes do not have to be finalized, but \n",
      "your approach must be realistic. \n",
      " \n",
      "  \f \n",
      "Department of Finance \n",
      " \n",
      "Universität Zürich   |   [Organisationseinheit] \n",
      " \n",
      "2   |   2 \n",
      "Checklist \n",
      "Please, check your research proposal for completeness before handing in: \n",
      "1. Is your proposal insightful? \n",
      "2. Is the problem clearly described? \n",
      "a. Are the hypotheses comprehensible and testable? \n",
      "b. Is the project too extensive? \n",
      "3. Are the methods feasible? \n",
      "a. Is the data obtainable? \n",
      "b. How will the data set be analyzed? \n",
      "c. Is it possible to confirm or reject the hypothesis with the analyzed data? \n",
      "4. What are the possible outcomes of the thesis? \n",
      "5. Is the project realistic and workable? \n",
      " \n"
     ]
    }
   ],
   "execution_count": 21
  },
  {
   "metadata": {},
   "cell_type": "markdown",
   "source": [
    "The process of converting PDFs into document embeddings for a RAG pipeline to use can be streamlined using a Haystack Pipeline. The object *pdf_embedder_pipeline* has the following components:\n",
    "- Converter → Converts PDF into a text document\n",
    "- Cleaner → Cleans the text document by removing things like empty lines, unsupported characters, extra whitespaces, etc.\n",
    "- Splitter → Chunks the document into a list of smaller documents\n",
    "- Embedder → Turns the chunked documents into numerical vectors\n",
    "- Writer → Stores chunked document embeddings in the document store object\n",
    "\n",
    "After adding and connecting the pipeline's components, the pipeline can be run for the file paths of the PDFs.\n",
    "\n"
   ],
   "id": "80070bff52a93252"
  },
  {
   "metadata": {
    "ExecuteTime": {
     "end_time": "2025-05-20T12:54:37.259116Z",
     "start_time": "2025-05-20T12:54:36.602704Z"
    }
   },
   "cell_type": "code",
   "source": [
    "from haystack import Pipeline\n",
    "from haystack.document_stores.in_memory import InMemoryDocumentStore\n",
    "from haystack.components.converters import PyPDFToDocument\n",
    "from haystack.components.preprocessors import DocumentCleaner\n",
    "from haystack.components.preprocessors import DocumentSplitter\n",
    "from haystack.components.embedders import OpenAIDocumentEmbedder\n",
    "from haystack.components.writers import DocumentWriter\n",
    "\n",
    "document_store = InMemoryDocumentStore()\n",
    "file_paths = [\"haystack_tutorial_data/document_uzh.pdf\"]\n",
    "\n",
    "pdf_embedder_pipeline = Pipeline()\n",
    "\n",
    "converter = PyPDFToDocument()\n",
    "cleaner = DocumentCleaner()\n",
    "splitter = DocumentSplitter()\n",
    "embedder = OpenAIDocumentEmbedder()\n",
    "writer = DocumentWriter(document_store=document_store)\n",
    "\n",
    "pdf_embedder_pipeline.add_component(\"converter\", converter)\n",
    "pdf_embedder_pipeline.add_component(\"cleaner\", cleaner)\n",
    "pdf_embedder_pipeline.add_component(\"splitter\", splitter)\n",
    "pdf_embedder_pipeline.add_component(\"embedder\", embedder)\n",
    "pdf_embedder_pipeline.add_component(\"writer\", writer)\n",
    "\n",
    "pdf_embedder_pipeline.connect(\"converter\", \"cleaner\")\n",
    "pdf_embedder_pipeline.connect(\"cleaner\", \"splitter\")\n",
    "pdf_embedder_pipeline.connect(\"splitter\", \"embedder\")\n",
    "pdf_embedder_pipeline.connect(\"embedder\", \"writer\")\n",
    "\n",
    "pdf_embedder_pipeline.run({\"converter\": {\"sources\": file_paths}})"
   ],
   "id": "588d5d06f44f5cae",
   "outputs": [
    {
     "name": "stderr",
     "output_type": "stream",
     "text": [
      "Calculating embeddings: 1it [00:00,  1.74it/s]\n"
     ]
    },
    {
     "data": {
      "text/plain": [
       "{'embedder': {'meta': {'model': 'text-embedding-ada-002-v2',\n",
       "   'usage': {'prompt_tokens': 603, 'total_tokens': 603}}},\n",
       " 'writer': {'documents_written': 3}}"
      ]
     },
     "execution_count": 22,
     "metadata": {},
     "output_type": "execute_result"
    }
   ],
   "execution_count": 22
  },
  {
   "metadata": {},
   "cell_type": "markdown",
   "source": "As was done for previous RAG pipelines, the following prompt template can be defined:",
   "id": "d14b802e3d37250b"
  },
  {
   "metadata": {
    "ExecuteTime": {
     "end_time": "2025-05-20T12:54:39.960739Z",
     "start_time": "2025-05-20T12:54:39.957193Z"
    }
   },
   "cell_type": "code",
   "source": [
    "from haystack.dataclasses import ChatMessage\n",
    "\n",
    "prompt = [ChatMessage.from_user(\"\"\"\n",
    "Given the following information, answer the question.\n",
    "\n",
    "Context:\n",
    "{% for document in documents %}\n",
    "    {{ document.content }}\n",
    "{% endfor %}\n",
    "\n",
    "Question: {{question}}\n",
    "Answer:\n",
    "\"\"\")\n",
    "          ]"
   ],
   "id": "a6739cba1acdce16",
   "outputs": [],
   "execution_count": 23
  },
  {
   "metadata": {},
   "cell_type": "markdown",
   "source": "The RAG pipeline can then be built in the same was as was shown previously:",
   "id": "b0f4afb8b8cf8b58"
  },
  {
   "metadata": {
    "ExecuteTime": {
     "end_time": "2025-05-20T12:54:43.320213Z",
     "start_time": "2025-05-20T12:54:43.286006Z"
    }
   },
   "cell_type": "code",
   "source": [
    "from haystack.components.embedders import OpenAITextEmbedder\n",
    "from haystack.components.retrievers.in_memory import InMemoryEmbeddingRetriever\n",
    "from haystack.components.builders import ChatPromptBuilder\n",
    "from haystack_integrations.components.generators.google_ai import GoogleAIGeminiChatGenerator\n",
    "\n",
    "query_embedder = OpenAITextEmbedder()\n",
    "retriever = InMemoryEmbeddingRetriever(document_store=document_store)\n",
    "prompt_builder = ChatPromptBuilder(template=prompt)\n",
    "chat_generator = GoogleAIGeminiChatGenerator()\n",
    "\n",
    "pdf_document_rag = Pipeline()\n",
    "\n",
    "pdf_document_rag.add_component(\"query_embedder\", query_embedder)\n",
    "pdf_document_rag.add_component(\"retriever\", retriever)\n",
    "pdf_document_rag.add_component(\"prompt_builder\", prompt_builder)\n",
    "pdf_document_rag.add_component(\"llm\", chat_generator)\n",
    "\n",
    "pdf_document_rag.connect(\"query_embedder.embedding\", \"retriever.query_embedding\")\n",
    "pdf_document_rag.connect(\"retriever.documents\", \"prompt_builder.documents\")\n",
    "pdf_document_rag.connect(\"prompt_builder.prompt\", \"llm.messages\")"
   ],
   "id": "7cebab81f2e68f64",
   "outputs": [
    {
     "name": "stderr",
     "output_type": "stream",
     "text": [
      "ChatPromptBuilder has 2 prompt variables, but `required_variables` is not set. By default, all prompt variables are treated as optional, which may lead to unintended behavior in multi-branch pipelines. To avoid unexpected execution, ensure that variables intended to be required are explicitly set in `required_variables`.\n"
     ]
    },
    {
     "data": {
      "text/plain": [
       "<haystack.core.pipeline.pipeline.Pipeline object at 0x1267df560>\n",
       "🚅 Components\n",
       "  - query_embedder: OpenAITextEmbedder\n",
       "  - retriever: InMemoryEmbeddingRetriever\n",
       "  - prompt_builder: ChatPromptBuilder\n",
       "  - llm: GoogleAIGeminiChatGenerator\n",
       "🛤️ Connections\n",
       "  - query_embedder.embedding -> retriever.query_embedding (List[float])\n",
       "  - retriever.documents -> prompt_builder.documents (List[Document])\n",
       "  - prompt_builder.prompt -> llm.messages (List[ChatMessage])"
      ]
     },
     "execution_count": 24,
     "metadata": {},
     "output_type": "execute_result"
    }
   ],
   "execution_count": 24
  },
  {
   "metadata": {},
   "cell_type": "markdown",
   "source": "With the PDF to embeddings pipeline and RAG pipeline ready, questions relating to the contents of the PDF document can now be asked in the same way as was shown previously:",
   "id": "1ce284bc062ca68"
  },
  {
   "metadata": {
    "ExecuteTime": {
     "end_time": "2025-05-20T12:54:47.199847Z",
     "start_time": "2025-05-20T12:54:45.492273Z"
    }
   },
   "cell_type": "code",
   "source": [
    "question = \"What should the hypothesis be in the research proposal?\"\n",
    "\n",
    "response = pdf_document_rag.run(\n",
    "    {\n",
    "        \"query_embedder\": {\"text\": question},\n",
    "        \"retriever\": {\"top_k\": 5},\n",
    "        \"prompt_builder\": {\"question\": question},\n",
    "    }\n",
    ")\n",
    "\n",
    "rag_response = response[\"llm\"][\"replies\"][0].text\n",
    "print(rag_response)"
   ],
   "id": "836aa8c4700fccd0",
   "outputs": [
    {
     "name": "stdout",
     "output_type": "stream",
     "text": [
      "The hypothesis, or research inquiry (objective), should describe the paradox the researcher is trying to solve and the motivation behind it.  It should explain why the topic is worth working on, be precisely focused but not trivial, and articulate specific hypotheses to be tested in the thesis.  The hypothesis must conform to existing literature or arise from it.  If not formulated as a hypothesis or distinct statement, the problem must be precisely expressed and specified, along with a justification for its worth.\n",
      "\n"
     ]
    }
   ],
   "execution_count": 25
  },
  {
   "metadata": {},
   "cell_type": "markdown",
   "source": "It is important to note that the *pypdf* package used by the *PyPDFToDocument* Haystack component is limited in how well it can convert PDFs into text. Data such as tables, images, and hyperlinks cannot be properly converted into text using this component alone. There are solutions such as [Docling](https://github.com/docling-project/docling) that can be implemented to address these issues.",
   "id": "36148e0ded3c1700"
  },
  {
   "metadata": {},
   "cell_type": "markdown",
   "source": "# 6. Converting Website Content into Documents",
   "id": "d71ba86bdbac6834"
  },
  {
   "metadata": {},
   "cell_type": "markdown",
   "source": [
    "This section covers the simplest method to convert data stored on websites into Haystack documents.\n",
    "\n",
    "To convert the content of a website into a form that a RAG can use, the Haystack components *LinkContentFetcher* and *HTMLToDocument* are used. The former fetches data from a website link as an HTML file, while the latter converts the fetched HTML file into a document object.\n",
    "\n",
    "To demonstrate the functionality of the converter, the below code can be run. The website links (in this example, the \"Master of Arts in Banking and Finance\" info-page from the UZH Department of Finance is used) can be specified in a list object. The fetcher and converter are first initialized, the website links are then passed into the run method of the fetcher, and then the HTML objects are passed into the run method of the converter. Both the *urls* and *sources* parameters of the fetcher and converter respectively are lists.\n"
   ],
   "id": "adda2d7292d90ae4"
  },
  {
   "metadata": {
    "ExecuteTime": {
     "end_time": "2025-05-20T12:55:01.517822Z",
     "start_time": "2025-05-20T12:54:59.653269Z"
    }
   },
   "cell_type": "code",
   "source": [
    "from haystack.components.fetchers import LinkContentFetcher\n",
    "from haystack.components.converters import HTMLToDocument\n",
    "\n",
    "urls = [\"https://www.df.uzh.ch/en/studies/bachelor-master/master/ma-banking-finance.html\"]\n",
    "\n",
    "fetcher = LinkContentFetcher()\n",
    "converter = HTMLToDocument()\n",
    "\n",
    "website_fetcher = fetcher.run(urls=urls)\n",
    "\n",
    "website_docs = converter.run(sources=website_fetcher['streams'])"
   ],
   "id": "b8dcfad64454e0b8",
   "outputs": [],
   "execution_count": 27
  },
  {
   "metadata": {},
   "cell_type": "markdown",
   "source": "The contents of the above *docs* object can be inspected by printing out the contents of each document:\n",
   "id": "b966aa091592a7d7"
  },
  {
   "metadata": {
    "ExecuteTime": {
     "end_time": "2025-05-20T12:55:03.178142Z",
     "start_time": "2025-05-20T12:55:03.175679Z"
    }
   },
   "cell_type": "code",
   "source": [
    "import sys\n",
    "print(sys.executable)"
   ],
   "id": "132a45da2f10ddbf",
   "outputs": [
    {
     "name": "stdout",
     "output_type": "stream",
     "text": [
      "/Volumes/Antonio 1TB/DF/Github_Repo/df-engineering/content/articles/haystack-tutorial/.venv/bin/python\n"
     ]
    }
   ],
   "execution_count": 28
  },
  {
   "metadata": {
    "ExecuteTime": {
     "end_time": "2025-05-20T12:55:04.276648Z",
     "start_time": "2025-05-20T12:55:04.273578Z"
    }
   },
   "cell_type": "code",
   "source": [
    "for i, doc in enumerate(website_docs['documents']):\n",
    "    print(f\"\\n--- Document {i+1} ---\\n\")\n",
    "    print(doc.content)"
   ],
   "id": "3b438ea28a49abe4",
   "outputs": [
    {
     "name": "stdout",
     "output_type": "stream",
     "text": [
      "\n",
      "--- Document 1 ---\n",
      "\n",
      "Master of Arts in Banking and Finance\n",
      "The Master's program in Banking and Finance has an academic focus and is designed to provide students with a strong foundation in both research and practice. The program also includes practice-oriented lectures, guest lectures from business professionals, and seminars supervised by industry partners, all of which allow students to gain early exposure to the professional world.\n",
      "It is worth noting that the majority of the program's modules are offered in English, which means that a good command of the English language is a prerequisite for the Master's program in Banking and Finance. This language requirement ensures that graduates are well-equipped to work in a globalized business environment where English is often the primary language used in professional settings.\n",
      "Subject Areas\n",
      "The Master of Arts in Banking and Finance program at the Department of Finance offers five majors: Banking, Corporate Finance, Financial Economics, Quantitative Finance, and Sustainable Finance. These majors provide students with a comprehensive and in-depth understanding of banking and the financial markets.\n",
      "Students also have the option to choose a minor to specialize in one of these subject areas. This enables students to tailor their education to their specific interests and career goals.\n",
      "The program is designed to provide students with a strong theoretical foundation and practical knowledge, making them well-equipped for challenging roles in the banking and finance industry.\n",
      "Mathematics and Statistics\n",
      "In addition to the basic economic education, the study of Banking and Finance requires strong skills in mathematics and statistics. Students who want to refresh their knowledge of mathematics and statistics can attend a mathematics preparation course. This course lasts one week, provides the basics in fast-forward, and prepares students for their Master's degree program. In addition, students interested in further study are recommended to attend the course “Optimization Methods in Finance“.\n",
      "Career Prospects and Further Study Programs\n",
      "The Master of Arts in Banking and Finance program equips graduates with the skills and knowledge necessary to take on various specialist and management roles across a range of industries. Every year, around 100 students successfully complete the program and qualify for such positions.\n",
      "Outstanding graduates who excel in their studies may pursue further doctoral studies, enabling them to become involved in scientific research in the field. Additionally, successful completion of the program provides a direct path to a career in the banking, insurance, and consulting industries.\n",
      "Most graduates of the Master of Arts in Banking and Finance program will find employment in the financial industry. Many begin their careers in financial services and fintech, with opportunities for growth and advancement in a variety of roles and industries.\n"
     ]
    }
   ],
   "execution_count": 29
  },
  {
   "metadata": {},
   "cell_type": "markdown",
   "source": [
    "The process of converting website content into document embeddings for a RAG pipeline to use can be streamlined using a Haystack Pipeline. The object *website_embedder_pipeline* is almost exactly the same as the *pdf_embedder_pipeline* from the previous section, except there is an additional *LinkContentFetcher*  component and the *PyPDFToDocument* component is replaced with the *HTMLToDocument* component.\n",
    "\n",
    "After adding and connecting the pipeline's components, the pipeline can be run for website links."
   ],
   "id": "e8afb06ff2efb055"
  },
  {
   "metadata": {
    "ExecuteTime": {
     "end_time": "2025-05-20T12:55:07.414179Z",
     "start_time": "2025-05-20T12:55:06.880587Z"
    }
   },
   "cell_type": "code",
   "source": [
    "from haystack import Pipeline\n",
    "from haystack.document_stores.in_memory import InMemoryDocumentStore\n",
    "from haystack.components.fetchers import LinkContentFetcher\n",
    "from haystack.components.converters import HTMLToDocument\n",
    "from haystack.components.preprocessors import DocumentCleaner\n",
    "from haystack.components.embedders import OpenAIDocumentEmbedder\n",
    "from haystack.components.preprocessors import DocumentSplitter\n",
    "from haystack.components.writers import DocumentWriter\n",
    "\n",
    "document_store = InMemoryDocumentStore()\n",
    "\n",
    "websites = [\"https://www.df.uzh.ch/en/studies/bachelor-master/master/ma-banking-finance.html\"]\n",
    "\n",
    "website_embedder_pipeline = Pipeline()\n",
    "\n",
    "fetcher = LinkContentFetcher()\n",
    "converter = HTMLToDocument()\n",
    "cleaner = DocumentCleaner()\n",
    "splitter = DocumentSplitter()\n",
    "embedder = OpenAIDocumentEmbedder()\n",
    "writer = DocumentWriter(document_store=document_store)\n",
    "\n",
    "website_embedder_pipeline.add_component(\"fetcher\", fetcher)\n",
    "website_embedder_pipeline.add_component(\"converter\", converter)\n",
    "website_embedder_pipeline.add_component(\"cleaner\", cleaner)\n",
    "website_embedder_pipeline.add_component(\"splitter\", splitter)\n",
    "website_embedder_pipeline.add_component(\"embedder\", embedder)\n",
    "website_embedder_pipeline.add_component(\"writer\", writer)\n",
    "\n",
    "website_embedder_pipeline.connect(\"fetcher\", \"converter\")\n",
    "website_embedder_pipeline.connect(\"converter\", \"cleaner\")\n",
    "website_embedder_pipeline.connect(\"cleaner\", \"splitter\")\n",
    "website_embedder_pipeline.connect(\"splitter\", \"embedder\")\n",
    "website_embedder_pipeline.connect(\"embedder\", \"writer\")\n",
    "\n",
    "website_embedder_pipeline.run({\"fetcher\": {\"urls\": websites}})"
   ],
   "id": "e64b30cfcf20e8e8",
   "outputs": [
    {
     "name": "stderr",
     "output_type": "stream",
     "text": [
      "Calculating embeddings: 1it [00:00,  2.57it/s]\n"
     ]
    },
    {
     "data": {
      "text/plain": [
       "{'embedder': {'meta': {'model': 'text-embedding-ada-002-v2',\n",
       "   'usage': {'prompt_tokens': 502, 'total_tokens': 502}}},\n",
       " 'writer': {'documents_written': 3}}"
      ]
     },
     "execution_count": 30,
     "metadata": {},
     "output_type": "execute_result"
    }
   ],
   "execution_count": 30
  },
  {
   "metadata": {},
   "cell_type": "markdown",
   "source": "The same prompt template and RAG pipeline from the previous section can be reused:",
   "id": "c376b0ba7c5d0e94"
  },
  {
   "metadata": {
    "ExecuteTime": {
     "end_time": "2025-05-20T12:55:10.616858Z",
     "start_time": "2025-05-20T12:55:10.612944Z"
    }
   },
   "cell_type": "code",
   "source": [
    "from haystack.dataclasses import ChatMessage\n",
    "\n",
    "prompt = [ChatMessage.from_user(\"\"\"\n",
    "Given the following information, answer the question.\n",
    "\n",
    "Context:\n",
    "{% for document in documents %}\n",
    "    {{ document.content }}\n",
    "{% endfor %}\n",
    "\n",
    "Question: {{question}}\n",
    "Answer:\n",
    "\"\"\")\n",
    "          ]"
   ],
   "id": "dc58446917839fae",
   "outputs": [],
   "execution_count": 31
  },
  {
   "metadata": {
    "ExecuteTime": {
     "end_time": "2025-05-20T12:55:12.417184Z",
     "start_time": "2025-05-20T12:55:12.376439Z"
    }
   },
   "cell_type": "code",
   "source": [
    "from haystack.components.embedders import OpenAITextEmbedder\n",
    "from haystack.components.retrievers.in_memory import InMemoryEmbeddingRetriever\n",
    "from haystack.components.builders import ChatPromptBuilder\n",
    "from haystack_integrations.components.generators.google_ai import GoogleAIGeminiChatGenerator\n",
    "\n",
    "query_embedder = OpenAITextEmbedder()\n",
    "retriever = InMemoryEmbeddingRetriever(document_store=document_store)\n",
    "prompt_builder = ChatPromptBuilder(template=prompt)\n",
    "chat_generator = GoogleAIGeminiChatGenerator()\n",
    "\n",
    "website_rag = Pipeline()\n",
    "\n",
    "website_rag.add_component(\"query_embedder\", query_embedder)\n",
    "website_rag.add_component(\"retriever\", retriever)\n",
    "website_rag.add_component(\"prompt_builder\", prompt_builder)\n",
    "website_rag.add_component(\"llm\", chat_generator)\n",
    "\n",
    "website_rag.connect(\"query_embedder.embedding\", \"retriever.query_embedding\")\n",
    "website_rag.connect(\"retriever.documents\", \"prompt_builder.documents\")\n",
    "website_rag.connect(\"prompt_builder.prompt\", \"llm.messages\")"
   ],
   "id": "264137d64e4552f6",
   "outputs": [
    {
     "name": "stderr",
     "output_type": "stream",
     "text": [
      "ChatPromptBuilder has 2 prompt variables, but `required_variables` is not set. By default, all prompt variables are treated as optional, which may lead to unintended behavior in multi-branch pipelines. To avoid unexpected execution, ensure that variables intended to be required are explicitly set in `required_variables`.\n"
     ]
    },
    {
     "data": {
      "text/plain": [
       "<haystack.core.pipeline.pipeline.Pipeline object at 0x126c6b350>\n",
       "🚅 Components\n",
       "  - query_embedder: OpenAITextEmbedder\n",
       "  - retriever: InMemoryEmbeddingRetriever\n",
       "  - prompt_builder: ChatPromptBuilder\n",
       "  - llm: GoogleAIGeminiChatGenerator\n",
       "🛤️ Connections\n",
       "  - query_embedder.embedding -> retriever.query_embedding (List[float])\n",
       "  - retriever.documents -> prompt_builder.documents (List[Document])\n",
       "  - prompt_builder.prompt -> llm.messages (List[ChatMessage])"
      ]
     },
     "execution_count": 32,
     "metadata": {},
     "output_type": "execute_result"
    }
   ],
   "execution_count": 32
  },
  {
   "metadata": {},
   "cell_type": "markdown",
   "source": "With the website to embeddings pipeline and RAG pipeline ready, questions relating to the contents of the website can now be asked in the same way as was shown previously:\n",
   "id": "78a2f84372a0813"
  },
  {
   "metadata": {
    "ExecuteTime": {
     "end_time": "2025-05-20T12:55:15.969740Z",
     "start_time": "2025-05-20T12:55:14.925905Z"
    }
   },
   "cell_type": "code",
   "source": [
    "question = \"What majors chan I choose in the UZH Master of Banking and Finance?\"\n",
    "\n",
    "response = website_rag.run(\n",
    "    {\n",
    "        \"query_embedder\": {\"text\": question},\n",
    "        \"retriever\": {\"top_k\": 5},\n",
    "        \"prompt_builder\": {\"question\": question},\n",
    "    }\n",
    ")\n",
    "\n",
    "rag_response = response[\"llm\"][\"replies\"][0].text\n",
    "print(rag_response)"
   ],
   "id": "2a0c3a38d64d64d3",
   "outputs": [
    {
     "name": "stdout",
     "output_type": "stream",
     "text": [
      "You can choose from five majors in the UZH Master of Arts in Banking and Finance program: Banking, Corporate Finance, Financial Economics, Quantitative Finance, and Sustainable Finance.\n",
      "\n"
     ]
    }
   ],
   "execution_count": 33
  },
  {
   "metadata": {},
   "cell_type": "markdown",
   "source": "As was the case for the PDF converter in the previous section, the fetcher and converter components used for retrieving website data cannot convert more complicated forms of data, such as tables, photos, and hyperlinks, into text format. There are solutions such as [Firecrawl](https://www.firecrawl.dev) that can be implemented to address these issues.",
   "id": "dce06d1bdfc787ed"
  },
  {
   "metadata": {},
   "cell_type": "code",
   "outputs": [],
   "execution_count": null,
   "source": "",
   "id": "e0a04d3165a6a733"
  }
 ],
 "metadata": {
  "kernelspec": {
   "display_name": "Python 3",
   "language": "python",
   "name": "python3"
  },
  "language_info": {
   "codemirror_mode": {
    "name": "ipython",
    "version": 2
   },
   "file_extension": ".py",
   "mimetype": "text/x-python",
   "name": "python",
   "nbconvert_exporter": "python",
   "pygments_lexer": "ipython2",
   "version": "2.7.6"
  }
 },
 "nbformat": 4,
 "nbformat_minor": 5
}
