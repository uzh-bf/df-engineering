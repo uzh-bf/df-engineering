{
 "cells": [
  {
   "metadata": {},
   "cell_type": "markdown",
   "source": [
    "| Title                                                   | Date       | Author          |\n",
    "|---------------------------------------------------------|------------|-----------------|\n",
    "| Building RAGs using Haystack - Jupyter Notebook Version | 2025-05-20 | Antonio Del Rio |\n",
    "---"
   ],
   "id": "6ef97a3d98392209"
  },
  {
   "metadata": {},
   "cell_type": "markdown",
   "source": [
    "# 1. Introduction and Terminology\n",
    "This tutorial provides a comprehensive, step-by-step guide for building a RAG pipeline using the open-source Haystack\n",
    "framework. In this walkthrough, you will learn how to install and configure Haystack, prepare your knowledge base using various data formats (such as text files, PDFs, and website content), embed documents, and construct a fully functional RAG pipeline that answers questions grounded in external data.\n",
    "\n",
    "Note - This tutorial was inspired by and builds upon the concepts and implementations presented in the following resources:\n",
    "- [Haystack Tutorial: Creating Your First QA Pipeline with Retrieval-Augmentation](https://haystack.deepset.ai/tutorials/27_first_rag_pipeline)\n",
    "- [DeepLearning.AI Short Course: Building AI Applications with Haystack](https://www.deeplearning.ai/short-courses/building-ai-applications-with-haystack/)\n",
    "\n",
    "---\n",
    "\n",
    "**Haystack** is an open-source framework for building search and question-answering systems powered by Natural\n",
    "Language Processing (NLP). It supports various components such as document retrieval, question answering, and\n",
    "generative models, making it suitable for implementing complex pipelines like Retrieval-Augmented Generation (RAG).\n",
    "The full documentation for Haystack can be found [here](https://docs.haystack.deepset.ai/docs/intro).\n",
    "\n",
    "**Retrieval-Augmented Generation (RAG)** is a pipeline technique that retrieves relevant information from a\n",
    "knowledge base to produce more accurate and contextually relevant answers to a provided query. Instead of relying on\n",
    "the generative model's training data to generate a response, the RAG pipeline retrieves relevant documents from a\n",
    "defined set of documents (the knowledge base) and passes them onto the generative model to generate a response. This\n",
    "approach allows the\n",
    "model to access external up-to-date information to more accurately respond to queries.\n",
    "\n",
    "Example of queries to generative models with and without RAG pipeline:\n",
    "- *Without* RAG pipeline: Answer the question (based on what you have been trained on)\n",
    "- *With* RAG pipeline: Answer the question AND base your answer on the provided document(s)\n",
    "\n",
    "Key terminology:\n",
    "\n",
    "| Term                 | What It Means                                                                                               |\n",
    "|----------------------|-------------------------------------------------------------------------------------------------------------|\n",
    "| **Document**         | A unit of text (e.g. paragraph, webpage, etc.)                                                              |\n",
    "| **Chunking**         | Splitting longer documents into smaller, more manageable parts (chunks) before passing through the embedder |\n",
    "| **Embedder**         | Turns text into numerical vectors (embeddings)                                                              |\n",
    "| **Document Store**   | A storage component that holds chunked embedded documents                                                   |\n",
    "| **Retriever**        | Finds relevant documents based on a query (using vector similarity)                                         |\n",
    "| **Reader/Generator** | Extracts/Generates answers from retrieved documents                                                         |\n"
   ],
   "id": "5cfba3b258194504"
  },
  {
   "metadata": {},
   "cell_type": "markdown",
   "source": [
    "# 2. Haystack Installation and Environment Setup\n",
    "\n",
    "## Haystack Installation\n",
    "\n",
    "Haystack and its required packages can be installed from *haystack-ai* using pip, uv, or any other preferred package\n",
    "manager:\n",
    "\n",
    "```console\n",
    "pip install haystack-ai\n",
    "```\n",
    "\n",
    "To use Haystack components for Google's Gemini model, *google-ai-haystack* and its required packages need to\n",
    " be installed in addition:\n",
    "```console\n",
    "pip install google-ai-haystack\n",
    "```\n",
    "\n",
    "## API Key Setup\n",
    "When building a RAG pipeline, certain components may use AI models that require access to an API key.\n",
    "In this documentation, the following components require an API key:\n",
    "\n",
    "- OpenAIDocumentEmbedder → requires OPENAI_API_KEY\n",
    "- OpenAITextEmbedder → requires OPENAI_API_KEY\n",
    "- OpenAIChatGenerator → requires OPENAI_API_KEY\n",
    "- GoogleAIGeminiChatGenerator → requires GOOGLE_API_KEY\n",
    "\n",
    "To store API keys for use in the RAG pipeline, a .env file can be created in the project space and the API\n",
    "keys can be listed in the file:\n",
    "```text\n",
    "OPENAI_API_KEY = ...OpenAI API key goes here...\n",
    "GOOGLE_API_KEY = ...Google Gemini API key goes here...\n",
    "```\n",
    "\n",
    "To access the .env file containing the API keys, the library *dotenv* is needed:\n",
    "```console\n",
    "pip install dotenv\n",
    "```\n",
    "When working in a jupyter notebook Python environment (such as this one), the following code can be used to load the .env file:"
   ],
   "id": "869f0c411c334395"
  },
  {
   "metadata": {
    "ExecuteTime": {
     "end_time": "2025-05-16T15:21:55.413159Z",
     "start_time": "2025-05-16T15:21:47.363815Z"
    }
   },
   "cell_type": "code",
   "source": [
    "%load_ext dotenv\n",
    "%dotenv"
   ],
   "id": "41df34026822c9e",
   "outputs": [],
   "execution_count": 1
  },
  {
   "metadata": {},
   "cell_type": "markdown",
   "source": "If the API keys have previously been loaded, they can be reloaded by calling the following method:",
   "id": "407e15bd71f9ac25"
  },
  {
   "metadata": {
    "ExecuteTime": {
     "end_time": "2025-05-16T15:21:30.643464Z",
     "start_time": "2025-05-16T15:21:30.535442Z"
    }
   },
   "cell_type": "code",
   "source": "%reload_ext dotenv",
   "id": "188f67d23be2dcf0",
   "outputs": [],
   "execution_count": 5
  },
  {
   "metadata": {},
   "cell_type": "markdown",
   "source": [
    "# 3. Haystack Components for Building a RAG Pipeline\n",
    "\n",
    "## Document Store\n",
    "To store the documents from the knowledge base, we can initialize a Haystack document store object. This object is\n",
    "essentially a database for the knowledge base which the RAG's retriever can then access when a query is provided.\n",
    "The simplest document store that can be used is *InMemoryDocumentStore()*:"
   ],
   "id": "4a2c10591e233cc0"
  },
  {
   "metadata": {
    "ExecuteTime": {
     "end_time": "2025-05-16T09:24:37.632809Z",
     "start_time": "2025-05-16T09:24:37.624Z"
    }
   },
   "cell_type": "code",
   "source": [
    "from haystack.document_stores.in_memory import InMemoryDocumentStore\n",
    "\n",
    "document_store = InMemoryDocumentStore()"
   ],
   "id": "1eeab40c4cecbe3b",
   "outputs": [],
   "execution_count": 16
  },
  {
   "metadata": {},
   "cell_type": "markdown",
   "source": [
    " The document embedding step can be streamlined by creating a Haystack Pipeline object, adding and connecting the components to it, and feeding the\n",
    "documents through the object.\n",
    "\n",
    "Firstly, the necessary components need to be imported. In the below example, since the data source (knowledge base)\n",
    "is in the form of a .txt file, the component *TextFileToDocument* can be used to automatically convert the text file\n",
    "into a valid Haystack Document object. Haystack offers a wide variety of converter components to convert .csv, .html,\n",
    ".doc and more data sources into valid Haystack Document objects, all of which can be found\n",
    "[here](https://docs.haystack.deepset.ai/docs/converters).\n",
    "\n",
    "The data source *edison.txt* used in this example is the book [*Edison: His Life and Inventions* by Frank Lewis Dyer and Thomas Commerford Martin](https://www.gutenberg.org/ebooks/820). This is a narrative of the famous inventor and businessman Thomas Edison that has been uploaded to the Project Gutenberg Library."
   ],
   "id": "db64e69a85c371b6"
  },
  {
   "metadata": {
    "ExecuteTime": {
     "end_time": "2025-05-16T09:24:58.779402Z",
     "start_time": "2025-05-16T09:24:58.409213Z"
    }
   },
   "cell_type": "code",
   "source": [
    "from haystack.components.converters.txt import TextFileToDocument\n",
    "from haystack.components.preprocessors.document_splitter import DocumentSplitter\n",
    "from haystack.components.embedders import OpenAIDocumentEmbedder\n",
    "from haystack.components.writers import DocumentWriter\n",
    "\n",
    "# Pipeline handles documents in text form and automatically writes (stores embeddings of) them into document_store\n",
    "data_source = \"haystack_tutorial_data/edison.txt\"\n",
    "\n",
    "converter = TextFileToDocument()\n",
    "splitter = DocumentSplitter()\n",
    "embedder = OpenAIDocumentEmbedder()\n",
    "writer = DocumentWriter(document_store=document_store)"
   ],
   "id": "9500891745fc7027",
   "outputs": [],
   "execution_count": 19
  },
  {
   "metadata": {},
   "cell_type": "markdown",
   "source": [
    "Next a Haystack Pipeline can be initialized, and the required components can be added to this object using the *.\n",
    "add_component()\" method:"
   ],
   "id": "52bbdb92bf2d90cb"
  },
  {
   "metadata": {
    "ExecuteTime": {
     "end_time": "2025-05-16T09:25:01.742746Z",
     "start_time": "2025-05-16T09:25:01.736509Z"
    }
   },
   "cell_type": "code",
   "source": [
    "from haystack import Pipeline\n",
    "indexing_pipeline = Pipeline()\n",
    "\n",
    "indexing_pipeline.add_component(name=\"converter\", instance=converter)\n",
    "indexing_pipeline.add_component(name=\"splitter\", instance=splitter)\n",
    "indexing_pipeline.add_component(name=\"embedder\", instance=embedder)\n",
    "indexing_pipeline.add_component(name=\"writer\", instance=writer)"
   ],
   "id": "fb2ac00839f80762",
   "outputs": [],
   "execution_count": 20
  },
  {
   "metadata": {},
   "cell_type": "markdown",
   "source": [
    "The added components must then be connected correctly to build the pipeline. The steps for properly processing the\n",
    "documents for the knowledge base are:\n",
    "\n",
    "1. Convert data source into a proper Haystack document object using the converter component\n",
    "2. Chunk the documents into smaller documents using the splitter component\n",
    "3. Embed the chunked documents using the embedder component\n",
    "4. Write the embeddings to the document store using the writer component\n",
    "\n",
    "The components can be connected together using the *.connect()* method:"
   ],
   "id": "ab2d814078e2c412"
  },
  {
   "metadata": {
    "ExecuteTime": {
     "end_time": "2025-05-16T09:25:04.124837Z",
     "start_time": "2025-05-16T09:25:04.120345Z"
    }
   },
   "cell_type": "code",
   "source": [
    "indexing_pipeline.connect(sender=\"converter\", receiver=\"splitter\")\n",
    "indexing_pipeline.connect(sender=\"splitter\", receiver=\"embedder\")\n",
    "indexing_pipeline.connect(sender=\"embedder\", receiver=\"writer\")"
   ],
   "id": "3e0f93e1c85677cb",
   "outputs": [
    {
     "data": {
      "text/plain": [
       "<haystack.core.pipeline.pipeline.Pipeline object at 0x1075ae9f0>\n",
       "🚅 Components\n",
       "  - converter: TextFileToDocument\n",
       "  - splitter: DocumentSplitter\n",
       "  - embedder: OpenAIDocumentEmbedder\n",
       "  - writer: DocumentWriter\n",
       "🛤️ Connections\n",
       "  - converter.documents -> splitter.documents (List[Document])\n",
       "  - splitter.documents -> embedder.documents (List[Document])\n",
       "  - embedder.documents -> writer.documents (List[Document])"
      ]
     },
     "execution_count": 21,
     "metadata": {},
     "output_type": "execute_result"
    }
   ],
   "execution_count": 21
  },
  {
   "metadata": {},
   "cell_type": "markdown",
   "source": [
    "Now that the pipeline for embedding the documents has been properly created, the pipeline can be run be calling the\n",
    "*.run()* method and defining the data source to be passed into the converter component (the first component of the\n",
    "pipeline):"
   ],
   "id": "85ab68cdbf04dba7"
  },
  {
   "metadata": {
    "ExecuteTime": {
     "end_time": "2025-05-16T09:25:47.501340Z",
     "start_time": "2025-05-16T09:25:06.182829Z"
    }
   },
   "cell_type": "code",
   "source": "indexing_pipeline.run({\"converter\": {\"sources\": [data_source]}})",
   "id": "488051334a775877",
   "outputs": [
    {
     "name": "stderr",
     "output_type": "stream",
     "text": [
      "Calculating embeddings: 41it [00:40,  1.01it/s]\n"
     ]
    },
    {
     "data": {
      "text/plain": [
       "{'embedder': {'meta': {'model': 'text-embedding-ada-002-v2',\n",
       "   'usage': {'prompt_tokens': 366307, 'total_tokens': 366307}}},\n",
       " 'writer': {'documents_written': 1307}}"
      ]
     },
     "execution_count": 22,
     "metadata": {},
     "output_type": "execute_result"
    }
   ],
   "execution_count": 22
  },
  {
   "metadata": {},
   "cell_type": "markdown",
   "source": [
    "To visualize the created Haystack Pipeline and how the pipeline's components are connected to each other, the *.show()*\n",
    "method can be used:"
   ],
   "id": "8ea0e673dd07ef57"
  },
  {
   "metadata": {
    "ExecuteTime": {
     "end_time": "2025-05-06T15:58:42.488817Z",
     "start_time": "2025-05-06T15:58:42.429038Z"
    }
   },
   "cell_type": "code",
   "source": "indexing_pipeline.show()",
   "id": "f37f247c25559036",
   "outputs": [
    {
     "data": {
      "image/png": "[encoded data removed]",
      "text/plain": [
       "<IPython.core.display.Image object>"
      ]
     },
     "metadata": {},
     "output_type": "display_data"
    }
   ],
   "execution_count": 82
  },
  {
   "metadata": {},
   "cell_type": "markdown",
   "source": [
    "## Prompt Layout\n",
    "\n",
    "In a RAG pipeline, the idea is for the AI model to answer the question and base its answer on the provided\n",
    "document(s). The prompt that goes to the AI model should therefore be:\n",
    "\n",
    "- Given the following information, answer the question.\n",
    "- Context: Loop through all documents in knowledge base\n",
    "- Question: User's query / question\n",
    "- Answer: To be given by AI model\n",
    "\n",
    "Using the Haystack dataclass *ChatMessage* and Jinja2 looping syntax, the following RAG prompt template can be\n",
    "defined, which loops through the documents in the knowledge base and takes in the user's\n",
    "query:"
   ],
   "id": "540da17af5e76a6c"
  },
  {
   "metadata": {
    "ExecuteTime": {
     "end_time": "2025-05-06T15:58:46.330149Z",
     "start_time": "2025-05-06T15:58:46.324723Z"
    }
   },
   "cell_type": "code",
   "source": [
    "from haystack.dataclasses import ChatMessage\n",
    "\n",
    "prompt = [ChatMessage.from_user(\"\"\"\n",
    "Given the following information, answer the question.\n",
    "\n",
    "Context:\n",
    "{% for document in documents %}\n",
    "    {{ document.content }}\n",
    "{% endfor %}\n",
    "\n",
    "Question: {{question}}\n",
    "Answer:\n",
    "\"\"\")\n",
    "          ]"
   ],
   "id": "2dc549400ad888f4",
   "outputs": [],
   "execution_count": 83
  },
  {
   "metadata": {},
   "cell_type": "markdown",
   "source": [
    "## Query Embedding, Prompt Building, and Putting RAG Together\n",
    "\n",
    "With the prompt template defined above, a new Haystack Pipeline can be built to take the user's query and embedded\n",
    "chunked documents, pass them through an AI model, and return an answer to the user's query.\n",
    "\n",
    "Firstly, the following necessary components need to be imported and added to the RAG Haystack Pipeline object:\n",
    "- *query_embedder* → Embeds text (which will be the user's query)\n",
    "- *retriever* → Retrieves chunked document embeddings stored in the defined document store\n",
    "- *prompt_builder* → Builds the prompt based on the prompt template to be given to the AI model\n",
    "- *chat_generator* → Takes in the user's full prompt, passes it through the Gemini AI model, and\n",
    "  returns an answer to the user's query\n",
    "  - *GoogleAIGeminiChatGenerator* → Uses Google's Gemini chat model for generating an answer to the prompt\n",
    "  - *OpenAIChatGenerator* → Uses OpenAI's chat model for generating an answer to the prompt\n"
   ],
   "id": "32cd006ac7e2e596"
  },
  {
   "metadata": {
    "ExecuteTime": {
     "end_time": "2025-05-06T15:58:48.749808Z",
     "start_time": "2025-05-06T15:58:48.592636Z"
    }
   },
   "cell_type": "code",
   "source": [
    "from haystack.components.embedders import OpenAITextEmbedder\n",
    "from haystack.components.retrievers.in_memory import InMemoryEmbeddingRetriever\n",
    "from haystack.components.builders import ChatPromptBuilder\n",
    "from haystack_integrations.components.generators.google_ai import GoogleAIGeminiChatGenerator\n",
    "# from haystack.components.generators.chat import OpenAIChatGenerator --> OpenAI Chat Generator\n",
    "\n",
    "query_embedder = OpenAITextEmbedder()\n",
    "retriever = InMemoryEmbeddingRetriever(document_store=document_store)\n",
    "prompt_builder = ChatPromptBuilder(template=prompt)\n",
    "chat_generator = GoogleAIGeminiChatGenerator()\n",
    "# chat_generator = OpenAIChatGenerator(model=\"gpt-4o-mini\") --> use for OpenAI Chat Generator\n",
    "\n",
    "rag = Pipeline()\n",
    "rag.add_component(\"query_embedder\", query_embedder)\n",
    "rag.add_component(\"retriever\", retriever)\n",
    "rag.add_component(\"prompt_builder\", prompt_builder)\n",
    "rag.add_component(\"llm\", chat_generator)"
   ],
   "id": "8bb8dcd2a65f595f",
   "outputs": [
    {
     "name": "stderr",
     "output_type": "stream",
     "text": [
      "ChatPromptBuilder has 2 prompt variables, but `required_variables` is not set. By default, all prompt variables are treated as optional, which may lead to unintended behavior in multi-branch pipelines. To avoid unexpected execution, ensure that variables intended to be required are explicitly set in `required_variables`.\n"
     ]
    }
   ],
   "execution_count": 84
  },
  {
   "metadata": {},
   "cell_type": "markdown",
   "source": [
    "To complete the RAG pipeline, the above-added components need to be connected correctly. The\n",
    "steps for properly\n",
    "processing the user's query in a RAG pipeline are:\n",
    "\n",
    "1. Embed the user's query using the query embedder component\n",
    "2. Retrieve the chunked document embeddings stored in the defined document store using the retriever component\n",
    "3. Build a prompt using the defined prompt template and the prompt builder component\n",
    "4. Pass the full prompt to the AI model to generate an answer to the user's query using the chat generator component\n"
   ],
   "id": "f009a71800a510b3"
  },
  {
   "metadata": {
    "ExecuteTime": {
     "end_time": "2025-05-06T15:58:52.859133Z",
     "start_time": "2025-05-06T15:58:52.853897Z"
    }
   },
   "cell_type": "code",
   "source": [
    "rag.connect(\"query_embedder.embedding\", \"retriever.query_embedding\")\n",
    "rag.connect(\"retriever.documents\", \"prompt_builder.documents\")\n",
    "rag.connect(\"prompt_builder.prompt\", \"llm.messages\")"
   ],
   "id": "5ee9b6b4011d7d2b",
   "outputs": [
    {
     "data": {
      "text/plain": [
       "<haystack.core.pipeline.pipeline.Pipeline object at 0x15a3b2270>\n",
       "🚅 Components\n",
       "  - query_embedder: OpenAITextEmbedder\n",
       "  - retriever: InMemoryEmbeddingRetriever\n",
       "  - prompt_builder: ChatPromptBuilder\n",
       "  - llm: GoogleAIGeminiChatGenerator\n",
       "🛤️ Connections\n",
       "  - query_embedder.embedding -> retriever.query_embedding (List[float])\n",
       "  - retriever.documents -> prompt_builder.documents (List[Document])\n",
       "  - prompt_builder.prompt -> llm.messages (List[ChatMessage])"
      ]
     },
     "execution_count": 85,
     "metadata": {},
     "output_type": "execute_result"
    }
   ],
   "execution_count": 85
  },
  {
   "metadata": {},
   "cell_type": "markdown",
   "source": [
    "To visualize the created Haystack Pipeline and how the pipeline's components are connected to each other, the *.show()*\n",
    "method can be used:"
   ],
   "id": "80a323e585de816c"
  },
  {
   "metadata": {
    "ExecuteTime": {
     "end_time": "2025-05-06T15:58:55.220726Z",
     "start_time": "2025-05-06T15:58:55.161237Z"
    }
   },
   "cell_type": "code",
   "source": "rag.show()",
   "id": "7f31e5e1d6d74b86",
   "outputs": [
    {
     "data": {
      "image/png": "[encoded data removed]",
      "text/plain": [
       "<IPython.core.display.Image object>"
      ]
     },
     "metadata": {},
     "output_type": "display_data"
    }
   ],
   "execution_count": 86
  },
  {
   "metadata": {},
   "cell_type": "markdown",
   "source": [
    "With the RAG pipeline fully built, it can be run by calling the *.run()* method. To run the RAG pipeline, the user must:\n",
    "1. Define their query; and\n",
    "2. Specify the integer value for the *top_k* parameter, which controls the number of top document chunks are\n",
    "   retrieved based on the similarity to the user's query\n",
    "\n",
    "After running the RAG pipeline, the response returned by the RAG pipeline can then be called and displayed:\n"
   ],
   "id": "641c43ac97f2d370"
  },
  {
   "metadata": {
    "ExecuteTime": {
     "end_time": "2025-05-06T16:00:03.150767Z",
     "start_time": "2025-05-06T16:00:01.173017Z"
    }
   },
   "cell_type": "code",
   "source": [
    "question = \"When did Edison become famous?\"\n",
    "\n",
    "response = rag.run(\n",
    "    {\n",
    "        \"query_embedder\": {\"text\": question},\n",
    "        \"retriever\": {\"top_k\": 10},\n",
    "        \"prompt_builder\": {\"question\": question},\n",
    "    }\n",
    ")\n",
    "\n",
    "rag_response = response[\"llm\"][\"replies\"][0].text\n",
    "print(rag_response)"
   ],
   "id": "78906bdeefc6b990",
   "outputs": [
    {
     "name": "stdout",
     "output_type": "stream",
     "text": [
      "The passage states that the phonograph's launch in 1878 made Edison a world sensation, and that this led to widespread press coverage and the creation of an \"Edison myth.\"  Therefore, 1878 is a reasonable answer.  While his inventions were successful before then, the phonograph appears to be the catalyst for widespread fame.\n",
      "\n"
     ]
    }
   ],
   "execution_count": 91
  },
  {
   "metadata": {},
   "cell_type": "markdown",
   "source": "# 4. Building Custom Haystack Components\n",
   "id": "6f4b9a8cae27588f"
  },
  {
   "metadata": {},
   "cell_type": "markdown",
   "source": [
    "The above RAG pipeline example has been built entirely with existing Haystack components. Haystack also has support for building custom components. Each Haystack component must fulfill the following requirements:\n",
    "1. It must be a class with the ```@component``` decorator\n",
    "2. It must include a ```run()``` method with a ```@component.output_types```decorator\n",
    "3. It must return a dictionary\n",
    "\n",
    "An example of a simple component is the following:"
   ],
   "id": "93183765fba0a14"
  },
  {
   "metadata": {
    "ExecuteTime": {
     "end_time": "2025-05-06T16:00:22.577144Z",
     "start_time": "2025-05-06T16:00:22.571367Z"
    }
   },
   "cell_type": "code",
   "source": [
    "from haystack import component\n",
    "\n",
    "@component # class with @component decorator\n",
    "class favorite_animal:\n",
    "\n",
    "    @component.output_types(output=str) # run() method with @component.output_types decorator\n",
    "    def run(self, animal_name: str):\n",
    "        return {\"output\": f\"My favorite animal is the {animal_name}!\"} # dictionary returned"
   ],
   "id": "3f4a090050ed14a4",
   "outputs": [],
   "execution_count": 92
  },
  {
   "metadata": {},
   "cell_type": "markdown",
   "source": "With the custom component ```favorite_animal``` built, it can be called and run:",
   "id": "dfa4ef5bffb54d4e"
  },
  {
   "metadata": {
    "ExecuteTime": {
     "end_time": "2025-05-06T16:00:24.400002Z",
     "start_time": "2025-05-06T16:00:24.394049Z"
    }
   },
   "cell_type": "code",
   "source": [
    "my_favorite_animal = favorite_animal()\n",
    "my_favorite_animal.run(animal_name=\"dog\")"
   ],
   "id": "c174c51fd2a2ba22",
   "outputs": [
    {
     "data": {
      "text/plain": [
       "{'output': 'My favorite animal is the dog!'}"
      ]
     },
     "execution_count": 93,
     "metadata": {},
     "output_type": "execute_result"
    }
   ],
   "execution_count": 93
  },
  {
   "metadata": {},
   "cell_type": "markdown",
   "source": [
    "As with the preset Haystack components, custom Haystack components can be added to Haystack pipelines. In the below example, the pipeline will:\n",
    "\n",
    "1. Construct the sentence \"My favorite animal is the ```{{ favorite_animal }}```!\" given the inputted ```favorite_animal``` (custom component ```favorite_animal()```)\n",
    "2. Prompts the Google Gemini AI agent to write a short paragraph about the given favorite animal (preset component ```ChatPromptBuilder()```)\n",
    "3. Generate the short paragraph about the given favorite animal given the existing knowledge of the AI agent (preset component ```GoogleAIGeminiChatGenerator()```)"
   ],
   "id": "12e23f586862ca01"
  },
  {
   "metadata": {},
   "cell_type": "markdown",
   "source": "First initialize the prompt to pass to the AI agent:",
   "id": "95c2b0501a8a6619"
  },
  {
   "metadata": {
    "ExecuteTime": {
     "end_time": "2025-05-06T16:00:26.958305Z",
     "start_time": "2025-05-06T16:00:26.948909Z"
    }
   },
   "cell_type": "code",
   "source": [
    "from haystack.dataclasses import ChatMessage\n",
    "\n",
    "prompt = [ChatMessage.from_user(\"\"\"\n",
    "You are given the name of the favorite animal of the user. Write a short paragraph about the animal.\n",
    "Start of paragraph: {{ favorite_animal }}\n",
    "Paragraph:\n",
    "\"\"\")]"
   ],
   "id": "5ab8ae8f775a2cbd",
   "outputs": [],
   "execution_count": 94
  },
  {
   "metadata": {},
   "cell_type": "markdown",
   "source": "Next, initialize the two preset components:",
   "id": "e831204ee4b6f7b6"
  },
  {
   "metadata": {
    "ExecuteTime": {
     "end_time": "2025-05-06T16:00:28.327995Z",
     "start_time": "2025-05-06T16:00:28.321481Z"
    }
   },
   "cell_type": "code",
   "source": [
    "# custom component\n",
    "my_favorite_animal = favorite_animal()\n",
    "\n",
    "# preset components\n",
    "from haystack.components.builders import ChatPromptBuilder\n",
    "from haystack_integrations.components.generators.google_ai import GoogleAIGeminiChatGenerator\n",
    "\n",
    "prompt_builder = ChatPromptBuilder(template=prompt)\n",
    "chat_generator = GoogleAIGeminiChatGenerator()"
   ],
   "id": "1a024a803a689cd7",
   "outputs": [
    {
     "name": "stderr",
     "output_type": "stream",
     "text": [
      "ChatPromptBuilder has 1 prompt variables, but `required_variables` is not set. By default, all prompt variables are treated as optional, which may lead to unintended behavior in multi-branch pipelines. To avoid unexpected execution, ensure that variables intended to be required are explicitly set in `required_variables`.\n"
     ]
    }
   ],
   "execution_count": 95
  },
  {
   "metadata": {},
   "cell_type": "markdown",
   "source": "Next, initialize the Haystack pipeline, add the three components, and connect them correctly:",
   "id": "92b979451e2f53c4"
  },
  {
   "metadata": {
    "ExecuteTime": {
     "end_time": "2025-05-06T16:00:32.009050Z",
     "start_time": "2025-05-06T16:00:31.998367Z"
    }
   },
   "cell_type": "code",
   "source": [
    "from haystack import Pipeline\n",
    "\n",
    "favorite_animal_pipeline = Pipeline()\n",
    "favorite_animal_pipeline.add_component(\"my_favorite_animal\", my_favorite_animal)\n",
    "favorite_animal_pipeline.add_component(\"prompt_builder\", prompt_builder)\n",
    "favorite_animal_pipeline.add_component(\"llm\", chat_generator)\n",
    "\n",
    "favorite_animal_pipeline.connect(\"my_favorite_animal.output\", \"prompt_builder.favorite_animal\")\n",
    "favorite_animal_pipeline.connect(\"prompt_builder.prompt\", \"llm.messages\")"
   ],
   "id": "d6557bc9a961d982",
   "outputs": [
    {
     "data": {
      "text/plain": [
       "<haystack.core.pipeline.pipeline.Pipeline object at 0x15a3f1e20>\n",
       "🚅 Components\n",
       "  - my_favorite_animal: favorite_animal\n",
       "  - prompt_builder: ChatPromptBuilder\n",
       "  - llm: GoogleAIGeminiChatGenerator\n",
       "🛤️ Connections\n",
       "  - my_favorite_animal.output -> prompt_builder.favorite_animal (str)\n",
       "  - prompt_builder.prompt -> llm.messages (List[ChatMessage])"
      ]
     },
     "execution_count": 96,
     "metadata": {},
     "output_type": "execute_result"
    }
   ],
   "execution_count": 96
  },
  {
   "metadata": {},
   "cell_type": "markdown",
   "source": "To verify that the Haystack pipeline was constructed properly, you can show its structure:",
   "id": "ffcfc908857f0a6e"
  },
  {
   "metadata": {
    "ExecuteTime": {
     "end_time": "2025-05-06T16:00:34.278443Z",
     "start_time": "2025-05-06T16:00:34.095747Z"
    }
   },
   "cell_type": "code",
   "source": "favorite_animal_pipeline.show()",
   "id": "9564d5015ff43e6f",
   "outputs": [
    {
     "data": {
      "image/png": "[encoded data removed]",
      "text/plain": [
       "<IPython.core.display.Image object>"
      ]
     },
     "metadata": {},
     "output_type": "display_data"
    }
   ],
   "execution_count": 97
  },
  {
   "metadata": {},
   "cell_type": "markdown",
   "source": "Finally, generate the desired answer for your favorite animal (in this example, the author's favorite animal is the dog):",
   "id": "91f14f598f9b944d"
  },
  {
   "metadata": {
    "ExecuteTime": {
     "end_time": "2025-05-06T16:00:38.892378Z",
     "start_time": "2025-05-06T16:00:37.215206Z"
    }
   },
   "cell_type": "code",
   "source": [
    "# run the pipeline to generate a complete answer\n",
    "answer = favorite_animal_pipeline.run({\"my_favorite_animal\": {\"animal_name\": \"dog\"}})\n",
    "\n",
    "# display the text of the AI agent's reply\n",
    "print(answer[\"llm\"][\"replies\"][0].text)"
   ],
   "id": "5964cd27385f38b9",
   "outputs": [
    {
     "name": "stdout",
     "output_type": "stream",
     "text": [
      "My favorite animal is the dog!  Dogs are incredibly diverse, ranging from tiny Chihuahuas to giant Great Danes, each with its own unique personality and charm.  Their unwavering loyalty and playful nature have made them cherished companions for millennia.  Beyond their companionship, dogs possess a remarkable intelligence and trainability, excelling in various roles from assistance animals to loyal protectors.  Their expressive eyes and wagging tails are a constant source of joy, making them truly man's best friend.\n",
      "\n"
     ]
    }
   ],
   "execution_count": 98
  },
  {
   "metadata": {},
   "cell_type": "markdown",
   "source": "# 5. Converting PDFs into Documents\n",
   "id": "bbee1c951421e26d"
  },
  {
   "metadata": {},
   "cell_type": "markdown",
   "source": [
    "The above examples have considered information for the RAG's knowledge base as pure text stored in a .txt file. Haystack has various converter components that can convert data in various forms into the embedding form for the RAG to be able to use. This section covers the simplest method to convert documents in PDF form into Haystack documents.\n",
    "\n",
    "To convert a PDF into content that can be stored in the knowledge base of the RAG, the Haystack component *PyPDFToDocument* is used. The *pypdf* package needs to be installed to use the Haystack component, which needs to be installed:\n",
    "\n",
    "```console\n",
    "pip install pypdf\n",
    "```\n",
    "To demonstrate the functionality of the converter, the below code can be run. The file path to a document (in this example, \"How to write a research proposal (Research proposal guide\" from the UZH Department of Finance is used). The converter is first initialized and the document's file path is passed into the run method of the converter. The *sources* parameter of the run method can take in a list of file paths to convert multiple PDFs into a list of document text.\n"
   ],
   "id": "eeacf9294408911f"
  },
  {
   "metadata": {
    "ExecuteTime": {
     "end_time": "2025-05-16T15:10:27.320119Z",
     "start_time": "2025-05-16T15:10:27.278220Z"
    }
   },
   "cell_type": "code",
   "source": [
    "from haystack.components.converters import PyPDFToDocument\n",
    "\n",
    "file_path = 'haystack_tutorial_data/document_uzh.pdf'\n",
    "converter = PyPDFToDocument()\n",
    "docs = converter.run(sources=[file_path])"
   ],
   "id": "4801f61d47ae1248",
   "outputs": [],
   "execution_count": 3
  },
  {
   "metadata": {},
   "cell_type": "markdown",
   "source": "The contents of the above *docs* object can be inspected by printing out the contents of each document:",
   "id": "dee41b5e1a31d819"
  },
  {
   "metadata": {
    "ExecuteTime": {
     "end_time": "2025-05-16T09:23:40.069385Z",
     "start_time": "2025-05-16T09:23:40.057552Z"
    }
   },
   "cell_type": "code",
   "source": [
    "for i, doc in enumerate(docs['documents']):\n",
    "    print(f\"\\n--- Document {i+1} ---\\n\")\n",
    "    print(doc.content)"
   ],
   "id": "2c9581675cfa10c9",
   "outputs": [
    {
     "name": "stdout",
     "output_type": "stream",
     "text": [
      "\n",
      "--- Document 1 ---\n",
      "\n",
      "1\n",
      "Key Information Document\n",
      "Purpose\n",
      "This document provides you with key information about this investment product. It is not marketing material. The information is required by\n",
      "law to help you understand the nature, risks, costs, potential gains and losses of this product and to help you compare it with other products.\n",
      "Product\n",
      "iShares Bitcoin ETP (the \"ETP\"), ISIN: XS2940466316, is manufactured by iShares Digital Assets AG (the \"Issuer\"). The Issuer is incorporated in\n",
      "Switzerland and supervised by the Bundesanstalt für Finanzdienstleistungsaufsicht (the “BaFin”) in relation to this KID. More information is\n",
      "available at www.blackrock.com or by calling +44-207-743-2030. This document is dated 25 March 2025.\n",
      "Caution: You are about to purchase a product that is not simple and may be difficult to understand.\n",
      "What is this product?\n",
      "Type: The ETP is a series of secured debt securities issued by the Issuer that are linked to bitcoin. The ETP securities are listed on the Frankfurt\n",
      "Stock Exchange and may be listed on other exchanges from time to time, are structured as debt securities and are not units in a collective\n",
      "investment scheme.\n",
      "Term: The ETP does not have a fixed term of existence, or maturity period, but in certain circumstances an early redemption may occur upon\n",
      "election by the Issuer or (in the case of a default by the Issuer) by its trustee, Apex Corporate Trustees (UK) Limited (the “Trustee”), subject to\n",
      "prior written notice. Please refer to the prospectus, available on www.ishares.com, for more information on early redemption events and events\n",
      "of default.\n",
      "Objectives\n",
      "The ETP securities aim to provide investment exposure to bitcoin. Each ETP security corresponds to a specific amount of bitcoin, known as\n",
      "the cryptoasset entitlement (the “Cryptoasset Entitlement”). The daily Cryptoasset Entitlement can be found on www.ishares.com.\n",
      "The ETP securities are listed and traded on one or more stock exchanges. In normal circumstances, only authorised participants (“APs”)\n",
      "may buy the ETP securities directly from the Issuer. Investors who are not APs can generally only buy the ETP securities on the secondary\n",
      "market (e.g. via a broker on the Frankfurt Stock Exchange) at the then prevailing market price.\n",
      "The  price  of  bitcoin  fluctuates  daily  and  the  value  of  bitcoin  is  driven  by  various  factors  including  market  liquidity.  Cryptoassets  can  be\n",
      "subject to high pricing volatility and substantial fluctuations.\n",
      "The value of the ETP securities is closely tied to acceptance, industry developments, and governance changes, making them susceptible to\n",
      "market  sentiment.  Digital  assets  represent  a  new  and  rapidly  evolving  industry,  and  the  value  of  the  ETP  securities  depends  on  their\n",
      "acceptance. Market disruption and government intervention can make digital assests illegal.\n",
      "The  market  value  and  price  of  the  ETP  securities  does  not  exclusively  depend  on  the  prevailing  price  of  bitcoin  and  changes  in  the\n",
      "prevailing price of bitcoin may not necessarily result in a comparable change in the market value of the ETP securities. The performance of\n",
      "the ETP securities may differ significantly from direct holdings of bitcoin as a result of the negative effects of fees and charge. The return\n",
      "on the ETP securities may not reflect the return if you had actually owned bitcoin and held such investment for a similar period.\n",
      "Cryptoasset platforms may be at risk of being hacked or exploited and may involve significant risks due to a compromise of private keys,\n",
      "which may result in losses. Market disruption and government intervention can make digital assets illegal.\n",
      "The ETP securities are not guaranteed. The value of the ETP securities may go down as well as up and you may lose some or all of your\n",
      "investment.\n",
      "Investors who are not APs should be aware that they will not take delivery of any bitcoin as a result of buying or selling the ETP securities in\n",
      "the secondary market.\n",
      "The relationship between the return on your investment, how it is impacted and the period for which you hold your investment is considered\n",
      "below under “How long should I hold it and can I take money out early?”\n",
      "Your ETP securities are denominated in US dollars, the ETP's base currency, but listed and traded in one or more other currencies on one or\n",
      "more stock exchanges.\n",
      "Please refer to the prospectus, available on www.ishares.com, for more information on the ETP securities and the Issuer.\n",
      "Intended retail investor: The ETP is intended for retail investors (i) with specific knowledge and/or experience of investing in similar products\n",
      "and with a solid understanding of the significant risks associated with cryptoassets including its associated volatility; (ii) seeking a product\n",
      "offering  exposure  to  the  performance  of  the  underlying  asset(s);  and  (iii)  that  have  the  ability  to  bear  losses  up  to  the  amount  they  have\n",
      "invested in the ETP. The ETP will not be suitable for retail investors that are unable to sustain a significant or complete loss of their investment.\n",
      "Insurance benefits: The ETP does not offer any insurance benefits.\f2\n",
      "What are the risks and what could I get in return?\n",
      "Risk Indicator\n",
      "Lower risk Higher risk\n",
      "The risk indicator assumes you keep the product for 5 years. The actual risk can vary significantly if you cash in at an\n",
      "early stage and you may get back less.\n",
      "The  summary  risk  indicator  is  a  guide  to  the  level  of  risk  of  this  product  compared  to  other  products.  It  shows  how  likely  it  is  that  the\n",
      "product will lose money because of movements in the markets or because we are not able to pay you.\n",
      "We have classified this product as 6 out of 7, which is the second highest risk class. This classification rates the potential losses from future\n",
      "performance at a high level, and poor market conditions could affect the value of your investment. This classification is not guaranteed and\n",
      "may change over time and may not be a reliable indication of the future risk profile of this ETP. The lowest category does not mean risk free.\n",
      "Be aware of currency risk. If you receive payments in a currency that is different to the product's base currency, the final return you will get\n",
      "depends on the exchange rate between the two currencies. This risk is not considered in the indicator shown above.\n",
      "Please refer to the product's Prospectus for details of other materially relevant risks that may apply to this product.\n",
      "This product does not include any protection from future market performance so you could lose some or all of your investment.\n",
      "If the product is not able to pay you what is owed, you could lose your entire investment.\n",
      "Performance Scenarios\n",
      "The figures shown include all the costs of the product itself, but may not include all the costs that you pay to your advisor or distributor. The\n",
      "figures do not take into account your personal tax situation, which may also affect how much you get back. What you will get from this product\n",
      "depends  on  future  market  performance.  Market  developments  in  the  future  are  uncertain  and  cannot  be  accurately  predicted.  The\n",
      "unfavourable,  moderate,  and  favourable  scenarios  shown  are  illustrations  using  the  worst,  average,  and  best  performance  of  the  product,\n",
      "which may include input from benchmark(s) / proxy, over the last ten years. Markets could develop very differently in the future.\n",
      "Recommended holding period : 5 years Example Investment : USD 10,000\n",
      "Scenarios If you exit after 1 year If you exit after 5 years\n",
      "Minimum There is no minimum guaranteed return. You could lose some or all of your investment.\n",
      "Stress* What you might get back after costs 2,060 USD 110 USD\n",
      "Average return each year -79.4% -59.4%\n",
      "Unfavourable** What you might get back after costs 2,820 USD 12,360 USD\n",
      "Average return each year -71.8% 4.3%\n",
      "Moderate** What you might get back after costs 20,390 USD 140,380 USD\n",
      "Average return each year 103.9% 69.6%\n",
      "Favourable** What you might get back after costs 138,730 USD 1,406,520 USD\n",
      "Average return each year 1,287.3% 168.9%\n",
      "* The stress scenario shows what you might get back in extreme market circumstances.\n",
      "** This type of scenario occurred for an investment in the product and/or benchmark(s) or proxy between :\n",
      "Scenarios 1 year 5 years\n",
      "Unfavourable December 2017 - December 2018 December 2017 - December 2022\n",
      "Moderate June 2023 - June 2024 May 2017 - May 2022\n",
      "Favourable December 2016 - December 2017 March 2016 - March 2021\n",
      "What happens if iShares Digital Assets AG is unable to pay out?\n",
      "The  underlying  cryptoassets  of  the  ETP  are  held  by  Coinbase  Custody  International  Limited,  the  Issuer's  Custodian.  In  the  event  of  the\n",
      "insolvency  of  the  Arranger  or  Trustee,  the  ETP’s  underlying  cryptoassets  held  by  the  Custodian  will  not  be  affected.  In  the  event  of  the\n",
      "insolvency of the Custodian, the cryptoassets held by the Custodian in the Issuer’s wallet (which is a segregated wallet in which cryptoassets\n",
      "are held in offline (cold) storage) for the benefit of the Issuer for the ETP should be protected, as such cryptoassets should be identified and\n",
      "held  separately  from  the  assets  of  the  Custodian  and  its  other  clients.  If  the  Issuer  fails  to  make  a  payment  when  due,  the  Trustee  may  in\n",
      "certain circumstances and subject to conditions enforce the security over the cryptoassets and arrange the sale of the relevant cryptoassets\n",
      "and return of the proceeds of sale (less costs), if any, to investors. The proceeds of such sale may not be sufficient to cover amounts owed to\n",
      "you under the ETP securities and you will not have recourse to any other assets of the Issuer. You would not be able to make a claim under any\n",
      "other investor protection scheme in the event that the product is unable to pay out.\f3\n",
      "What are the costs?\n",
      "The person advising on or selling you this product may charge you other costs. If so, this person will provide you with information about these\n",
      "costs and how they affect your investment.\n",
      "Costs over time: The tables show the amounts that are taken from your investment to cover different types of costs. These amounts depend on\n",
      "how much you invest, how long you hold the product and how well the product does. The amounts shown here are illustrations based on an\n",
      "example investment amount and different possible investment periods.\n",
      "We have assumed:\n",
      "In the first year you would get back the amount that you invested (0 % annual return).\n",
      "For the other holding periods we have assumed the product performs as shown in the moderate scenario.\n",
      "USD 10,000 is invested.\n",
      "If you exit after 1 year If you exit after 5 years\n",
      "Total costs 15 USD 1,056 USD\n",
      "Annual cost Impact (*) 0.2% 0.3%\n",
      "(*) This illustrates how costs reduce your return each year over the holding period. For example it shows that if you exit at the recommended\n",
      "holding period your average return per year is projected to be 69.9% before costs and 69.6% after costs.\n",
      "We may share part of the costs with the person selling you the product to cover the services they provide to you. They will inform you of the\n",
      "amount.\n",
      "Composition of Costs\n",
      "One-off costs upon entry or exit\n",
      "If you exit after 1 \n",
      "year\n",
      "Entry costs We do not charge an entry fee.1 -\n",
      "Exit costs We do not charge an exit fee. However, there may be third party costs charged for non-AP\n",
      "direct redemptions.1\n",
      "-\n",
      "Ongoing costs taken each year\n",
      "Management fees and \n",
      "other administrative or \n",
      "operating costs\n",
      "0.15%  of  the  value  of  your  investment  per  year.  This  is  based  on  estimated  costs.  Any\n",
      "underlying  product  costs  are  included  here  with  the  exception  of  transaction  costs  which\n",
      "would be included below under 'Transaction costs'. Please note the TER for this product is\n",
      "0.25%  which  is  temporarily  waived  down  to  0.15%.  Please  refer  to  www.ishares.com  for\n",
      "information on when the TER waiver is to be removed.\n",
      "15 USD\n",
      "Transaction costs 0.00%  of  the  value  of  your  investment  per  year.  This  is  an  estimate  of  the  costs  incurred\n",
      "when  we  buy  and  sell  the  underlying  investments  for  the  product.  The  actual  amount  will\n",
      "vary depending on how much we buy and sell.\n",
      "0 USD\n",
      "Incidental costs taken under specific conditions\n",
      "Performance fees There is no performance fee for this product. -\n",
      "1Investors dealing via stock exchanges will pay fees charged by stockbrokers. Such charges can be obtained on exchanges where the shares\n",
      "are listed and traded, or from stockbrokers. APs dealing directly with the Issuer will pay related transaction costs. Please refer to the prospectus\n",
      "for more details about third party costs charged for non-AP direct redemptions.\n",
      "How long should I hold it and can I take money out early? Recommended Holding Period: 5 years\n",
      "The recommended holding period (RHP) has been calculated in line with the investment strategy of the ETP and the timeframe in which it is\n",
      "expected that it will be possible to achieve the investment objective of the ETP. The ETP securities are appropriate for medium to long term\n",
      "investment,  though  the  ETP  securities  may  also  be  suitable  for  shorter  term  exposure  .  Any  investment  should  be  considered  against  your\n",
      "specific  investment  needs  and  appetite  for  risk.  BlackRock  has  not  considered  the  suitability  or  appropriateness  of  this  investment  for  your\n",
      "personal circumstances. If you are in any doubt about the suitability of the ETP to your needs you should seek appropriate professional advice.\n",
      "You can buy or sell your ETP securities daily on the secondary market through a broker. Investors who are not APs may directly request the\n",
      "Issuer to redeem their ETP securities in kind, subject to satisfaction of certain conditions. You may receive less than expected if you cash in\n",
      "earlier than the RHP. The RHP is an estimate and must not be taken as a guarantee or an indication of future performance, return or risk levels.\n",
      "Please contact your broker, financial adviser or distributor for any charges.\n",
      "How can I complain?\n",
      "If you are not entirely satisfied with any aspect of the service you have received and you wish to complain, details of our complaints handling\n",
      "process  are  available  at  www.blackrock.com/uk/individual/about-blackrock/contact-us.  Additionally,  you  can  also  write  to  the  Investor\n",
      "Services  Team,  at  BlackRock’s  UK  Registered  Office,  12  Throgmorton  Avenue,  London,  EC2N  2DL  or  e-mail  them  at\n",
      "enquiry@ukclientservices.blackrock.com.\n",
      "Other relevant information\n",
      "The latest version of this document, the ETP’s prospectus, the latest annual report, half-yearly reports, previous performance scenario and any\n",
      "additional information issued to unitholders can be obtained free of charge in English and certain other languages, from www.ishares.com or\n",
      "by calling +44-207-743-2030 or from your broker, financial adviser or distributor. There is insufficient data to provide a useful indication of\n",
      "past performance.\n"
     ]
    }
   ],
   "execution_count": 13
  },
  {
   "metadata": {},
   "cell_type": "markdown",
   "source": [
    "The process of converting PDFs into document embeddings for a RAG pipeline to use can be streamlined using a Haystack Pipeline. The object *pdf_embedder_pipeline* has the following components:\n",
    "- Converter → Converts PDF into a text document\n",
    "- Cleaner → Cleans the text document by removing things like empty lines, unsupported characters, extra whitespaces, etc.\n",
    "- Splitter → Chunks the document into a list of smaller documents\n",
    "- Embedder → Turns the chunked documents into numerical vectors\n",
    "- Writer → Stores chunked document embeddings in the document store object\n",
    "\n",
    "After adding and connecting the pipeline's components, the pipeline can be run for the file paths of the PDFs.\n",
    "\n"
   ],
   "id": "80070bff52a93252"
  },
  {
   "metadata": {
    "ExecuteTime": {
     "end_time": "2025-05-16T15:22:14.260484Z",
     "start_time": "2025-05-16T15:22:11.535619Z"
    }
   },
   "cell_type": "code",
   "source": [
    "from haystack import Pipeline\n",
    "from haystack.document_stores.in_memory import InMemoryDocumentStore\n",
    "from haystack.components.converters import PyPDFToDocument\n",
    "from haystack.components.preprocessors import DocumentCleaner\n",
    "from haystack.components.preprocessors import DocumentSplitter\n",
    "from haystack.components.embedders import OpenAIDocumentEmbedder\n",
    "from haystack.components.writers import DocumentWriter\n",
    "\n",
    "document_store = InMemoryDocumentStore()\n",
    "file_paths = [\"haystack_tutorial_data/document_uzh.pdf\"]\n",
    "\n",
    "pdf_embedder_pipeline = Pipeline()\n",
    "\n",
    "converter = PyPDFToDocument()\n",
    "cleaner = DocumentCleaner()\n",
    "splitter = DocumentSplitter()\n",
    "embedder = OpenAIDocumentEmbedder()\n",
    "writer = DocumentWriter(document_store=document_store)\n",
    "\n",
    "pdf_embedder_pipeline.add_component(\"converter\", converter)\n",
    "pdf_embedder_pipeline.add_component(\"cleaner\", cleaner)\n",
    "pdf_embedder_pipeline.add_component(\"splitter\", splitter)\n",
    "pdf_embedder_pipeline.add_component(\"embedder\", embedder)\n",
    "pdf_embedder_pipeline.add_component(\"writer\", writer)\n",
    "\n",
    "pdf_embedder_pipeline.connect(\"converter\", \"cleaner\")\n",
    "pdf_embedder_pipeline.connect(\"cleaner\", \"splitter\")\n",
    "pdf_embedder_pipeline.connect(\"splitter\", \"embedder\")\n",
    "pdf_embedder_pipeline.connect(\"embedder\", \"writer\")\n",
    "\n",
    "pdf_embedder_pipeline.run({\"converter\": {\"sources\": file_paths}})"
   ],
   "id": "588d5d06f44f5cae",
   "outputs": [
    {
     "name": "stderr",
     "output_type": "stream",
     "text": [
      "Calculating embeddings: 1it [00:01,  1.63s/it]\n"
     ]
    },
    {
     "data": {
      "text/plain": [
       "{'embedder': {'meta': {'model': 'text-embedding-ada-002-v2',\n",
       "   'usage': {'prompt_tokens': 603, 'total_tokens': 603}}},\n",
       " 'writer': {'documents_written': 3}}"
      ]
     },
     "execution_count": 2,
     "metadata": {},
     "output_type": "execute_result"
    }
   ],
   "execution_count": 2
  },
  {
   "metadata": {},
   "cell_type": "markdown",
   "source": "As was done for previous RAG pipelines, the following prompt template can be defined:",
   "id": "d14b802e3d37250b"
  },
  {
   "metadata": {
    "ExecuteTime": {
     "end_time": "2025-05-16T15:23:24.749693Z",
     "start_time": "2025-05-16T15:23:24.744223Z"
    }
   },
   "cell_type": "code",
   "source": [
    "from haystack.dataclasses import ChatMessage\n",
    "\n",
    "prompt = [ChatMessage.from_user(\"\"\"\n",
    "Given the following information, answer the question.\n",
    "\n",
    "Context:\n",
    "{% for document in documents %}\n",
    "    {{ document.content }}\n",
    "{% endfor %}\n",
    "\n",
    "Question: {{question}}\n",
    "Answer:\n",
    "\"\"\")\n",
    "          ]"
   ],
   "id": "a6739cba1acdce16",
   "outputs": [],
   "execution_count": 3
  },
  {
   "metadata": {},
   "cell_type": "markdown",
   "source": "The RAG pipeline can then be built in the same was as was shown previously:",
   "id": "b0f4afb8b8cf8b58"
  },
  {
   "metadata": {
    "ExecuteTime": {
     "end_time": "2025-05-16T15:25:07.358046Z",
     "start_time": "2025-05-16T15:25:01.129150Z"
    }
   },
   "cell_type": "code",
   "source": [
    "from haystack.components.embedders import OpenAITextEmbedder\n",
    "from haystack.components.retrievers.in_memory import InMemoryEmbeddingRetriever\n",
    "from haystack.components.builders import ChatPromptBuilder\n",
    "from haystack_integrations.components.generators.google_ai import GoogleAIGeminiChatGenerator\n",
    "\n",
    "query_embedder = OpenAITextEmbedder()\n",
    "retriever = InMemoryEmbeddingRetriever(document_store=document_store)\n",
    "prompt_builder = ChatPromptBuilder(template=prompt)\n",
    "chat_generator = GoogleAIGeminiChatGenerator()\n",
    "\n",
    "pdf_document_rag = Pipeline()\n",
    "\n",
    "pdf_document_rag.add_component(\"query_embedder\", query_embedder)\n",
    "pdf_document_rag.add_component(\"retriever\", retriever)\n",
    "pdf_document_rag.add_component(\"prompt_builder\", prompt_builder)\n",
    "pdf_document_rag.add_component(\"llm\", chat_generator)\n",
    "\n",
    "pdf_document_rag.connect(\"query_embedder.embedding\", \"retriever.query_embedding\")\n",
    "pdf_document_rag.connect(\"retriever.documents\", \"prompt_builder.documents\")\n",
    "pdf_document_rag.connect(\"prompt_builder.prompt\", \"llm.messages\")"
   ],
   "id": "7cebab81f2e68f64",
   "outputs": [
    {
     "name": "stderr",
     "output_type": "stream",
     "text": [
      "/Volumes/Antonio 1TB/DF/Chatbot/Learning/Haystack_Intro/.venv/lib/python3.12/site-packages/tqdm/auto.py:21: TqdmWarning: IProgress not found. Please update jupyter and ipywidgets. See https://ipywidgets.readthedocs.io/en/stable/user_install.html\n",
      "  from .autonotebook import tqdm as notebook_tqdm\n",
      "ChatPromptBuilder has 2 prompt variables, but `required_variables` is not set. By default, all prompt variables are treated as optional, which may lead to unintended behavior in multi-branch pipelines. To avoid unexpected execution, ensure that variables intended to be required are explicitly set in `required_variables`.\n"
     ]
    },
    {
     "data": {
      "text/plain": [
       "<haystack.core.pipeline.pipeline.Pipeline object at 0x13aa805f0>\n",
       "🚅 Components\n",
       "  - query_embedder: OpenAITextEmbedder\n",
       "  - retriever: InMemoryEmbeddingRetriever\n",
       "  - prompt_builder: ChatPromptBuilder\n",
       "  - llm: GoogleAIGeminiChatGenerator\n",
       "🛤️ Connections\n",
       "  - query_embedder.embedding -> retriever.query_embedding (List[float])\n",
       "  - retriever.documents -> prompt_builder.documents (List[Document])\n",
       "  - prompt_builder.prompt -> llm.messages (List[ChatMessage])"
      ]
     },
     "execution_count": 4,
     "metadata": {},
     "output_type": "execute_result"
    }
   ],
   "execution_count": 4
  },
  {
   "metadata": {},
   "cell_type": "markdown",
   "source": "With the PDF to embeddings pipeline and RAG pipeline ready, questions relating to the contents of the PDF document can now be asked in the same way as was shown previously:",
   "id": "1ce284bc062ca68"
  },
  {
   "metadata": {
    "ExecuteTime": {
     "end_time": "2025-05-16T15:27:39.588261Z",
     "start_time": "2025-05-16T15:27:37.096540Z"
    }
   },
   "cell_type": "code",
   "source": [
    "question = \"What should the hypothesis be in the research proposal?\"\n",
    "\n",
    "response = pdf_document_rag.run(\n",
    "    {\n",
    "        \"query_embedder\": {\"text\": question},\n",
    "        \"retriever\": {\"top_k\": 5},\n",
    "        \"prompt_builder\": {\"question\": question},\n",
    "    }\n",
    ")\n",
    "\n",
    "rag_response = response[\"llm\"][\"replies\"][0].text\n",
    "print(rag_response)"
   ],
   "id": "836aa8c4700fccd0",
   "outputs": [
    {
     "name": "stdout",
     "output_type": "stream",
     "text": [
      "The hypothesis (or research inquiry/objective) should describe the paradox the researcher is trying to solve and the motivation behind it.  It should clearly articulate specific hypotheses to be tested in the thesis, be precisely focused but not trivial, and be justified by explaining why it's worth investing time and effort.  The hypothesis should conform to or arise from existing literature (as shown through a literature review citing leading academic journals and sources like the Social Science Research Network).  If not formulated as a distinct statement or hypothesis, the problem must be precisely expressed and specified.\n",
      "\n"
     ]
    }
   ],
   "execution_count": 6
  },
  {
   "metadata": {},
   "cell_type": "markdown",
   "source": "It is important to note that the *pypdf* package used by the *PyPDFToDocument* Haystack component is limited in how well it can convert PDFs into text. Data such as tables, images, and hyperlinks cannot be properly converted into text using this component alone. There are solutions such as [Docling](https://github.com/docling-project/docling) that can be implemented to address these issues.",
   "id": "36148e0ded3c1700"
  },
  {
   "metadata": {},
   "cell_type": "markdown",
   "source": "# 6. Converting Website Content into Documents",
   "id": "d71ba86bdbac6834"
  },
  {
   "metadata": {},
   "cell_type": "markdown",
   "source": [
    "This section covers the simplest method to convert data stored on websites into Haystack documents.\n",
    "\n",
    "To convert the content of a website into a form that a RAG can use, the Haystack components *LinkContentFetcher* and *HTMLToDocument* are used. The former fetches data from a website link as an HTML file, while the latter converts the fetched HTML file into a document object.\n",
    "\n",
    "To demonstrate the functionality of the converter, the below code can be run. The website links (in this example, the \"Master of Arts in Banking and Finance\" info-page from the UZH Department of Finance is used) can be specified in a list object. The fetcher and converter are first initialized, the website links are then passed into the run method of the fetcher, and then the HTML objects are passed into the run method of the converter. Both the *urls* and *sources* parameters of the fetcher and converter respectively are lists.\n"
   ],
   "id": "adda2d7292d90ae4"
  },
  {
   "metadata": {
    "ExecuteTime": {
     "end_time": "2025-05-16T15:39:24.994888Z",
     "start_time": "2025-05-16T15:39:22.823372Z"
    }
   },
   "cell_type": "code",
   "source": [
    "from haystack.components.fetchers import LinkContentFetcher\n",
    "from haystack.components.converters import HTMLToDocument\n",
    "\n",
    "urls = [\"https://www.df.uzh.ch/en/studies/bachelor-master/master/ma-banking-finance.html\"]\n",
    "\n",
    "fetcher = LinkContentFetcher()\n",
    "converter = HTMLToDocument()\n",
    "\n",
    "website_fetcher = fetcher.run(urls=urls)\n",
    "\n",
    "website_docs = converter.run(sources=website_fetcher['streams'])"
   ],
   "id": "b8dcfad64454e0b8",
   "outputs": [],
   "execution_count": 7
  },
  {
   "metadata": {},
   "cell_type": "markdown",
   "source": "The contents of the above *docs* object can be inspected by printing out the contents of each document:\n",
   "id": "b966aa091592a7d7"
  },
  {
   "metadata": {
    "ExecuteTime": {
     "end_time": "2025-05-16T15:39:27.525477Z",
     "start_time": "2025-05-16T15:39:27.523511Z"
    }
   },
   "cell_type": "code",
   "source": [
    "for i, doc in enumerate(website_docs['documents']):\n",
    "    print(f\"\\n--- Document {i+1} ---\\n\")\n",
    "    print(doc.content)"
   ],
   "id": "3b438ea28a49abe4",
   "outputs": [
    {
     "name": "stdout",
     "output_type": "stream",
     "text": [
      "\n",
      "--- Document 1 ---\n",
      "\n",
      "Master of Arts in Banking and Finance\n",
      "The Master's program in Banking and Finance has an academic focus and is designed to provide students with a strong foundation in both research and practice. The program also includes practice-oriented lectures, guest lectures from business professionals, and seminars supervised by industry partners, all of which allow students to gain early exposure to the professional world.\n",
      "It is worth noting that the majority of the program's modules are offered in English, which means that a good command of the English language is a prerequisite for the Master's program in Banking and Finance. This language requirement ensures that graduates are well-equipped to work in a globalized business environment where English is often the primary language used in professional settings.\n",
      "Subject Areas\n",
      "The Master of Arts in Banking and Finance program at the Department of Finance offers five majors: Banking, Corporate Finance, Financial Economics, Quantitative Finance, and Sustainable Finance. These majors provide students with a comprehensive and in-depth understanding of banking and the financial markets.\n",
      "Students also have the option to choose a minor to specialize in one of these subject areas. This enables students to tailor their education to their specific interests and career goals.\n",
      "The program is designed to provide students with a strong theoretical foundation and practical knowledge, making them well-equipped for challenging roles in the banking and finance industry.\n",
      "Mathematics and Statistics\n",
      "In addition to the basic economic education, the study of Banking and Finance requires strong skills in mathematics and statistics. Students who want to refresh their knowledge of mathematics and statistics can attend a mathematics preparation course. This course lasts one week, provides the basics in fast-forward, and prepares students for their Master's degree program. In addition, students interested in further study are recommended to attend the course “Optimization Methods in Finance“.\n",
      "Career Prospects and Further Study Programs\n",
      "The Master of Arts in Banking and Finance program equips graduates with the skills and knowledge necessary to take on various specialist and management roles across a range of industries. Every year, around 100 students successfully complete the program and qualify for such positions.\n",
      "Outstanding graduates who excel in their studies may pursue further doctoral studies, enabling them to become involved in scientific research in the field. Additionally, successful completion of the program provides a direct path to a career in the banking, insurance, and consulting industries.\n",
      "Most graduates of the Master of Arts in Banking and Finance program will find employment in the financial industry. Many begin their careers in financial services and fintech, with opportunities for growth and advancement in a variety of roles and industries.\n"
     ]
    }
   ],
   "execution_count": 8
  },
  {
   "metadata": {},
   "cell_type": "markdown",
   "source": [
    "The process of converting website content into document embeddings for a RAG pipeline to use can be streamlined using a Haystack Pipeline. The object *website_embedder_pipeline* is almost exactly the same as the *pdf_embedder_pipeline* from the previous section, except there is an additional *LinkContentFetcher*  component and the *PyPDFToDocument* component is replaced with the *HTMLToDocument* component.\n",
    "\n",
    "After adding and connecting the pipeline's components, the pipeline can be run for website links."
   ],
   "id": "e8afb06ff2efb055"
  },
  {
   "metadata": {
    "ExecuteTime": {
     "end_time": "2025-05-16T15:44:17.892973Z",
     "start_time": "2025-05-16T15:44:17.022228Z"
    }
   },
   "cell_type": "code",
   "source": [
    "from haystack import Pipeline\n",
    "from haystack.document_stores.in_memory import InMemoryDocumentStore\n",
    "from haystack.components.fetchers import LinkContentFetcher\n",
    "from haystack.components.converters import HTMLToDocument\n",
    "from haystack.components.preprocessors import DocumentCleaner\n",
    "from haystack.components.embedders import OpenAIDocumentEmbedder\n",
    "from haystack.components.preprocessors import DocumentSplitter\n",
    "from haystack.components.writers import DocumentWriter\n",
    "\n",
    "document_store = InMemoryDocumentStore()\n",
    "\n",
    "websites = [\"https://www.df.uzh.ch/en/studies/bachelor-master/master/ma-banking-finance.html\"]\n",
    "\n",
    "website_embedder_pipeline = Pipeline()\n",
    "\n",
    "fetcher = LinkContentFetcher()\n",
    "converter = HTMLToDocument()\n",
    "cleaner = DocumentCleaner()\n",
    "splitter = DocumentSplitter()\n",
    "embedder = OpenAIDocumentEmbedder()\n",
    "writer = DocumentWriter(document_store=document_store)\n",
    "\n",
    "website_embedder_pipeline.add_component(\"fetcher\", fetcher)\n",
    "website_embedder_pipeline.add_component(\"converter\", converter)\n",
    "website_embedder_pipeline.add_component(\"cleaner\", cleaner)\n",
    "website_embedder_pipeline.add_component(\"splitter\", splitter)\n",
    "website_embedder_pipeline.add_component(\"embedder\", embedder)\n",
    "website_embedder_pipeline.add_component(\"writer\", writer)\n",
    "\n",
    "website_embedder_pipeline.connect(\"fetcher\", \"converter\")\n",
    "website_embedder_pipeline.connect(\"converter\", \"cleaner\")\n",
    "website_embedder_pipeline.connect(\"cleaner\", \"splitter\")\n",
    "website_embedder_pipeline.connect(\"splitter\", \"embedder\")\n",
    "website_embedder_pipeline.connect(\"embedder\", \"writer\")\n",
    "\n",
    "website_embedder_pipeline.run({\"fetcher\": {\"urls\": websites}})"
   ],
   "id": "e64b30cfcf20e8e8",
   "outputs": [
    {
     "name": "stderr",
     "output_type": "stream",
     "text": [
      "Calculating embeddings: 1it [00:00,  1.40it/s]\n"
     ]
    },
    {
     "data": {
      "text/plain": [
       "{'embedder': {'meta': {'model': 'text-embedding-ada-002-v2',\n",
       "   'usage': {'prompt_tokens': 502, 'total_tokens': 502}}},\n",
       " 'writer': {'documents_written': 3}}"
      ]
     },
     "execution_count": 9,
     "metadata": {},
     "output_type": "execute_result"
    }
   ],
   "execution_count": 9
  },
  {
   "metadata": {},
   "cell_type": "markdown",
   "source": "The same prompt template and RAG pipeline from the previous section can be reused:",
   "id": "c376b0ba7c5d0e94"
  },
  {
   "metadata": {
    "ExecuteTime": {
     "end_time": "2025-05-16T15:44:20.877313Z",
     "start_time": "2025-05-16T15:44:20.874400Z"
    }
   },
   "cell_type": "code",
   "source": [
    "from haystack.dataclasses import ChatMessage\n",
    "\n",
    "prompt = [ChatMessage.from_user(\"\"\"\n",
    "Given the following information, answer the question.\n",
    "\n",
    "Context:\n",
    "{% for document in documents %}\n",
    "    {{ document.content }}\n",
    "{% endfor %}\n",
    "\n",
    "Question: {{question}}\n",
    "Answer:\n",
    "\"\"\")\n",
    "          ]"
   ],
   "id": "dc58446917839fae",
   "outputs": [],
   "execution_count": 10
  },
  {
   "metadata": {
    "ExecuteTime": {
     "end_time": "2025-05-16T15:44:22.565341Z",
     "start_time": "2025-05-16T15:44:22.519535Z"
    }
   },
   "cell_type": "code",
   "source": [
    "from haystack.components.embedders import OpenAITextEmbedder\n",
    "from haystack.components.retrievers.in_memory import InMemoryEmbeddingRetriever\n",
    "from haystack.components.builders import ChatPromptBuilder\n",
    "from haystack_integrations.components.generators.google_ai import GoogleAIGeminiChatGenerator\n",
    "\n",
    "query_embedder = OpenAITextEmbedder()\n",
    "retriever = InMemoryEmbeddingRetriever(document_store=document_store)\n",
    "prompt_builder = ChatPromptBuilder(template=prompt)\n",
    "chat_generator = GoogleAIGeminiChatGenerator()\n",
    "\n",
    "website_rag = Pipeline()\n",
    "\n",
    "website_rag.add_component(\"query_embedder\", query_embedder)\n",
    "website_rag.add_component(\"retriever\", retriever)\n",
    "website_rag.add_component(\"prompt_builder\", prompt_builder)\n",
    "website_rag.add_component(\"llm\", chat_generator)\n",
    "\n",
    "website_rag.connect(\"query_embedder.embedding\", \"retriever.query_embedding\")\n",
    "website_rag.connect(\"retriever.documents\", \"prompt_builder.documents\")\n",
    "website_rag.connect(\"prompt_builder.prompt\", \"llm.messages\")"
   ],
   "id": "264137d64e4552f6",
   "outputs": [
    {
     "name": "stderr",
     "output_type": "stream",
     "text": [
      "ChatPromptBuilder has 2 prompt variables, but `required_variables` is not set. By default, all prompt variables are treated as optional, which may lead to unintended behavior in multi-branch pipelines. To avoid unexpected execution, ensure that variables intended to be required are explicitly set in `required_variables`.\n"
     ]
    },
    {
     "data": {
      "text/plain": [
       "<haystack.core.pipeline.pipeline.Pipeline object at 0x13e713f80>\n",
       "🚅 Components\n",
       "  - query_embedder: OpenAITextEmbedder\n",
       "  - retriever: InMemoryEmbeddingRetriever\n",
       "  - prompt_builder: ChatPromptBuilder\n",
       "  - llm: GoogleAIGeminiChatGenerator\n",
       "🛤️ Connections\n",
       "  - query_embedder.embedding -> retriever.query_embedding (List[float])\n",
       "  - retriever.documents -> prompt_builder.documents (List[Document])\n",
       "  - prompt_builder.prompt -> llm.messages (List[ChatMessage])"
      ]
     },
     "execution_count": 11,
     "metadata": {},
     "output_type": "execute_result"
    }
   ],
   "execution_count": 11
  },
  {
   "metadata": {},
   "cell_type": "markdown",
   "source": "With the website to embeddings pipeline and RAG pipeline ready, questions relating to the contents of the website can now be asked in the same way as was shown previously:\n",
   "id": "78a2f84372a0813"
  },
  {
   "metadata": {
    "ExecuteTime": {
     "end_time": "2025-05-16T15:45:09.739839Z",
     "start_time": "2025-05-16T15:45:07.513381Z"
    }
   },
   "cell_type": "code",
   "source": [
    "question = \"What majors chan I choose in the UZH Master of Banking and Finance?\"\n",
    "\n",
    "response = website_rag.run(\n",
    "    {\n",
    "        \"query_embedder\": {\"text\": question},\n",
    "        \"retriever\": {\"top_k\": 5},\n",
    "        \"prompt_builder\": {\"question\": question},\n",
    "    }\n",
    ")\n",
    "\n",
    "rag_response = response[\"llm\"][\"replies\"][0].text\n",
    "print(rag_response)"
   ],
   "id": "2a0c3a38d64d64d3",
   "outputs": [
    {
     "name": "stdout",
     "output_type": "stream",
     "text": [
      "You can choose from five majors in the UZH Master of Arts in Banking and Finance: Banking, Corporate Finance, Financial Economics, Quantitative Finance, and Sustainable Finance.\n",
      "\n"
     ]
    }
   ],
   "execution_count": 12
  },
  {
   "metadata": {},
   "cell_type": "markdown",
   "source": "As was the case for the PDF converter in the previous section, the fetcher and converter components used for retrieving website data cannot convert more complicated forms of data, such as tables, photos, and hyperlinks, into text format. There are solutions such as [Firecrawl](https://www.firecrawl.dev) that can be implemented to address these issues.",
   "id": "dce06d1bdfc787ed"
  },
  {
   "metadata": {},
   "cell_type": "code",
   "outputs": [],
   "execution_count": null,
   "source": "",
   "id": "e0a04d3165a6a733"
  }
 ],
 "metadata": {
  "kernelspec": {
   "display_name": "Python 3",
   "language": "python",
   "name": "python3"
  },
  "language_info": {
   "codemirror_mode": {
    "name": "ipython",
    "version": 2
   },
   "file_extension": ".py",
   "mimetype": "text/x-python",
   "name": "python",
   "nbconvert_exporter": "python",
   "pygments_lexer": "ipython2",
   "version": "2.7.6"
  }
 },
 "nbformat": 4,
 "nbformat_minor": 5
}
